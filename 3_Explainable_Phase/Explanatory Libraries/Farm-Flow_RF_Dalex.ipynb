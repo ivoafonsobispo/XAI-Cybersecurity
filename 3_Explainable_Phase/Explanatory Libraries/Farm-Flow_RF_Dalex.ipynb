{
 "cells": [
  {
   "cell_type": "markdown",
   "metadata": {},
   "source": [
    "# Random Forest Model + Explainable AI Techniques (XAI)"
   ]
  },
  {
   "cell_type": "markdown",
   "metadata": {
    "id": "8_T2LCfAN_XF"
   },
   "source": [
    "## Data Preparation"
   ]
  },
  {
   "cell_type": "code",
   "execution_count": 1,
   "metadata": {
    "id": "K1li4zpPN_XH"
   },
   "outputs": [],
   "source": [
    "import pandas as pd\n",
    "import numpy as np\n",
    "import joblib\n",
    "import matplotlib.pyplot as plt\n",
    "\n",
    "from sklearn.model_selection import train_test_split"
   ]
  },
  {
   "cell_type": "markdown",
   "metadata": {},
   "source": [
    "Load Train Dataset"
   ]
  },
  {
   "cell_type": "code",
   "execution_count": 2,
   "metadata": {},
   "outputs": [],
   "source": [
    "df_train = pd.read_csv(\"../0_Datasets/Farm-Flow/train.csv\")"
   ]
  },
  {
   "cell_type": "code",
   "execution_count": 3,
   "metadata": {},
   "outputs": [
    {
     "data": {
      "text/html": [
       "<div>\n",
       "<style scoped>\n",
       "    .dataframe tbody tr th:only-of-type {\n",
       "        vertical-align: middle;\n",
       "    }\n",
       "\n",
       "    .dataframe tbody tr th {\n",
       "        vertical-align: top;\n",
       "    }\n",
       "\n",
       "    .dataframe thead th {\n",
       "        text-align: right;\n",
       "    }\n",
       "</style>\n",
       "<table border=\"1\" class=\"dataframe\">\n",
       "  <thead>\n",
       "    <tr style=\"text-align: right;\">\n",
       "      <th></th>\n",
       "      <th>fwd_pkts_tot</th>\n",
       "      <th>bwd_pkts_tot</th>\n",
       "      <th>fwd_data_pkts_tot</th>\n",
       "      <th>bwd_data_pkts_tot</th>\n",
       "      <th>fwd_pkts_per_sec</th>\n",
       "      <th>bwd_pkts_per_sec</th>\n",
       "      <th>flow_pkts_per_sec</th>\n",
       "      <th>down_up_ratio</th>\n",
       "      <th>fwd_header_size_tot</th>\n",
       "      <th>fwd_header_size_min</th>\n",
       "      <th>...</th>\n",
       "      <th>flow_pkts_payload.max</th>\n",
       "      <th>flow_pkts_payload.tot</th>\n",
       "      <th>flow_pkts_payload.avg</th>\n",
       "      <th>flow_pkts_payload.std</th>\n",
       "      <th>fwd_subflow_pkts</th>\n",
       "      <th>bwd_subflow_pkts</th>\n",
       "      <th>fwd_subflow_bytes</th>\n",
       "      <th>bwd_subflow_bytes</th>\n",
       "      <th>traffic</th>\n",
       "      <th>is_attack</th>\n",
       "    </tr>\n",
       "  </thead>\n",
       "  <tbody>\n",
       "    <tr>\n",
       "      <th>0</th>\n",
       "      <td>-0.236304</td>\n",
       "      <td>-0.662387</td>\n",
       "      <td>-0.577140</td>\n",
       "      <td>-0.443123</td>\n",
       "      <td>-0.277741</td>\n",
       "      <td>-0.268577</td>\n",
       "      <td>-0.273647</td>\n",
       "      <td>-1.394192</td>\n",
       "      <td>-0.643844</td>\n",
       "      <td>-1.423582</td>\n",
       "      <td>...</td>\n",
       "      <td>-0.562720</td>\n",
       "      <td>-0.744570</td>\n",
       "      <td>-0.562649</td>\n",
       "      <td>-0.557806</td>\n",
       "      <td>-0.556874</td>\n",
       "      <td>-0.638986</td>\n",
       "      <td>-0.741186</td>\n",
       "      <td>-0.418623</td>\n",
       "      <td>UDP_Flood</td>\n",
       "      <td>1</td>\n",
       "    </tr>\n",
       "    <tr>\n",
       "      <th>1</th>\n",
       "      <td>-0.672105</td>\n",
       "      <td>-0.457813</td>\n",
       "      <td>-0.577140</td>\n",
       "      <td>-0.443123</td>\n",
       "      <td>0.490111</td>\n",
       "      <td>0.504662</td>\n",
       "      <td>0.498222</td>\n",
       "      <td>0.728588</td>\n",
       "      <td>-0.643844</td>\n",
       "      <td>0.278456</td>\n",
       "      <td>...</td>\n",
       "      <td>-0.562720</td>\n",
       "      <td>-0.744570</td>\n",
       "      <td>-0.562649</td>\n",
       "      <td>-0.557806</td>\n",
       "      <td>-0.556874</td>\n",
       "      <td>-0.419418</td>\n",
       "      <td>-0.741186</td>\n",
       "      <td>-0.418623</td>\n",
       "      <td>Port_Scanning</td>\n",
       "      <td>1</td>\n",
       "    </tr>\n",
       "    <tr>\n",
       "      <th>2</th>\n",
       "      <td>-0.454205</td>\n",
       "      <td>-0.662387</td>\n",
       "      <td>-0.577140</td>\n",
       "      <td>-0.443123</td>\n",
       "      <td>-0.277918</td>\n",
       "      <td>-0.268577</td>\n",
       "      <td>-0.273736</td>\n",
       "      <td>-1.394192</td>\n",
       "      <td>-0.724235</td>\n",
       "      <td>-1.423582</td>\n",
       "      <td>...</td>\n",
       "      <td>-0.562720</td>\n",
       "      <td>-0.744570</td>\n",
       "      <td>-0.562649</td>\n",
       "      <td>-0.557806</td>\n",
       "      <td>-0.556874</td>\n",
       "      <td>-0.638986</td>\n",
       "      <td>-0.741186</td>\n",
       "      <td>-0.418623</td>\n",
       "      <td>UDP_Flood</td>\n",
       "      <td>1</td>\n",
       "    </tr>\n",
       "    <tr>\n",
       "      <th>3</th>\n",
       "      <td>2.378496</td>\n",
       "      <td>2.406229</td>\n",
       "      <td>2.285759</td>\n",
       "      <td>2.444445</td>\n",
       "      <td>-0.276874</td>\n",
       "      <td>-0.267504</td>\n",
       "      <td>-0.272675</td>\n",
       "      <td>0.728588</td>\n",
       "      <td>2.129645</td>\n",
       "      <td>-0.147053</td>\n",
       "      <td>...</td>\n",
       "      <td>-0.240860</td>\n",
       "      <td>1.678331</td>\n",
       "      <td>-0.105550</td>\n",
       "      <td>-0.268638</td>\n",
       "      <td>2.620142</td>\n",
       "      <td>2.654541</td>\n",
       "      <td>1.265201</td>\n",
       "      <td>2.728235</td>\n",
       "      <td>Normal</td>\n",
       "      <td>0</td>\n",
       "    </tr>\n",
       "    <tr>\n",
       "      <th>4</th>\n",
       "      <td>-0.672105</td>\n",
       "      <td>-0.457813</td>\n",
       "      <td>-0.577140</td>\n",
       "      <td>-0.443123</td>\n",
       "      <td>-0.277823</td>\n",
       "      <td>-0.268460</td>\n",
       "      <td>-0.273629</td>\n",
       "      <td>0.728588</td>\n",
       "      <td>-0.684039</td>\n",
       "      <td>-0.147053</td>\n",
       "      <td>...</td>\n",
       "      <td>-0.562720</td>\n",
       "      <td>-0.744570</td>\n",
       "      <td>-0.562649</td>\n",
       "      <td>-0.557806</td>\n",
       "      <td>-0.670339</td>\n",
       "      <td>-0.529202</td>\n",
       "      <td>-0.741186</td>\n",
       "      <td>-0.418623</td>\n",
       "      <td>MQTT_Flood</td>\n",
       "      <td>1</td>\n",
       "    </tr>\n",
       "    <tr>\n",
       "      <th>...</th>\n",
       "      <td>...</td>\n",
       "      <td>...</td>\n",
       "      <td>...</td>\n",
       "      <td>...</td>\n",
       "      <td>...</td>\n",
       "      <td>...</td>\n",
       "      <td>...</td>\n",
       "      <td>...</td>\n",
       "      <td>...</td>\n",
       "      <td>...</td>\n",
       "      <td>...</td>\n",
       "      <td>...</td>\n",
       "      <td>...</td>\n",
       "      <td>...</td>\n",
       "      <td>...</td>\n",
       "      <td>...</td>\n",
       "      <td>...</td>\n",
       "      <td>...</td>\n",
       "      <td>...</td>\n",
       "      <td>...</td>\n",
       "      <td>...</td>\n",
       "    </tr>\n",
       "    <tr>\n",
       "      <th>47341</th>\n",
       "      <td>-0.454205</td>\n",
       "      <td>-0.457813</td>\n",
       "      <td>-0.577140</td>\n",
       "      <td>-0.443123</td>\n",
       "      <td>-0.276776</td>\n",
       "      <td>-0.267991</td>\n",
       "      <td>-0.272869</td>\n",
       "      <td>-0.332802</td>\n",
       "      <td>-0.483062</td>\n",
       "      <td>-0.147053</td>\n",
       "      <td>...</td>\n",
       "      <td>-0.562720</td>\n",
       "      <td>-0.744570</td>\n",
       "      <td>-0.562649</td>\n",
       "      <td>-0.557806</td>\n",
       "      <td>-0.329944</td>\n",
       "      <td>-0.419418</td>\n",
       "      <td>-0.741186</td>\n",
       "      <td>-0.418623</td>\n",
       "      <td>TCP_Flood</td>\n",
       "      <td>1</td>\n",
       "    </tr>\n",
       "    <tr>\n",
       "      <th>47342</th>\n",
       "      <td>-0.454205</td>\n",
       "      <td>-0.662387</td>\n",
       "      <td>-0.577140</td>\n",
       "      <td>-0.443123</td>\n",
       "      <td>-0.277509</td>\n",
       "      <td>-0.268577</td>\n",
       "      <td>-0.273530</td>\n",
       "      <td>-1.394192</td>\n",
       "      <td>-0.724235</td>\n",
       "      <td>-1.423582</td>\n",
       "      <td>...</td>\n",
       "      <td>-0.562720</td>\n",
       "      <td>-0.744570</td>\n",
       "      <td>-0.562649</td>\n",
       "      <td>-0.557806</td>\n",
       "      <td>-0.556874</td>\n",
       "      <td>-0.638986</td>\n",
       "      <td>-0.741186</td>\n",
       "      <td>-0.418623</td>\n",
       "      <td>UDP_Flood</td>\n",
       "      <td>1</td>\n",
       "    </tr>\n",
       "    <tr>\n",
       "      <th>47343</th>\n",
       "      <td>2.160596</td>\n",
       "      <td>1.997080</td>\n",
       "      <td>2.285759</td>\n",
       "      <td>2.444445</td>\n",
       "      <td>-0.276943</td>\n",
       "      <td>-0.267646</td>\n",
       "      <td>-0.272781</td>\n",
       "      <td>0.576960</td>\n",
       "      <td>1.928668</td>\n",
       "      <td>-0.147053</td>\n",
       "      <td>...</td>\n",
       "      <td>-0.240860</td>\n",
       "      <td>1.678331</td>\n",
       "      <td>-0.054762</td>\n",
       "      <td>-0.267306</td>\n",
       "      <td>0.275202</td>\n",
       "      <td>0.312477</td>\n",
       "      <td>-0.072391</td>\n",
       "      <td>0.630330</td>\n",
       "      <td>Normal</td>\n",
       "      <td>0</td>\n",
       "    </tr>\n",
       "    <tr>\n",
       "      <th>47344</th>\n",
       "      <td>1.288996</td>\n",
       "      <td>1.383357</td>\n",
       "      <td>1.713179</td>\n",
       "      <td>0.711904</td>\n",
       "      <td>-0.265775</td>\n",
       "      <td>-0.256330</td>\n",
       "      <td>-0.261520</td>\n",
       "      <td>0.728588</td>\n",
       "      <td>2.330623</td>\n",
       "      <td>1.129475</td>\n",
       "      <td>...</td>\n",
       "      <td>-0.250326</td>\n",
       "      <td>0.400251</td>\n",
       "      <td>-0.238680</td>\n",
       "      <td>-0.346375</td>\n",
       "      <td>1.485493</td>\n",
       "      <td>1.556699</td>\n",
       "      <td>0.470671</td>\n",
       "      <td>0.378581</td>\n",
       "      <td>Normal</td>\n",
       "      <td>0</td>\n",
       "    </tr>\n",
       "    <tr>\n",
       "      <th>47345</th>\n",
       "      <td>-0.672105</td>\n",
       "      <td>-0.457813</td>\n",
       "      <td>-0.577140</td>\n",
       "      <td>-0.443123</td>\n",
       "      <td>-0.277865</td>\n",
       "      <td>-0.268501</td>\n",
       "      <td>-0.273671</td>\n",
       "      <td>0.728588</td>\n",
       "      <td>-0.684039</td>\n",
       "      <td>-0.147053</td>\n",
       "      <td>...</td>\n",
       "      <td>-0.562720</td>\n",
       "      <td>-0.744570</td>\n",
       "      <td>-0.562649</td>\n",
       "      <td>-0.557806</td>\n",
       "      <td>-0.670339</td>\n",
       "      <td>-0.529202</td>\n",
       "      <td>-0.741186</td>\n",
       "      <td>-0.418623</td>\n",
       "      <td>MQTT_Flood</td>\n",
       "      <td>1</td>\n",
       "    </tr>\n",
       "  </tbody>\n",
       "</table>\n",
       "<p>47346 rows × 35 columns</p>\n",
       "</div>"
      ],
      "text/plain": [
       "       fwd_pkts_tot  bwd_pkts_tot  fwd_data_pkts_tot  bwd_data_pkts_tot  \\\n",
       "0         -0.236304     -0.662387          -0.577140          -0.443123   \n",
       "1         -0.672105     -0.457813          -0.577140          -0.443123   \n",
       "2         -0.454205     -0.662387          -0.577140          -0.443123   \n",
       "3          2.378496      2.406229           2.285759           2.444445   \n",
       "4         -0.672105     -0.457813          -0.577140          -0.443123   \n",
       "...             ...           ...                ...                ...   \n",
       "47341     -0.454205     -0.457813          -0.577140          -0.443123   \n",
       "47342     -0.454205     -0.662387          -0.577140          -0.443123   \n",
       "47343      2.160596      1.997080           2.285759           2.444445   \n",
       "47344      1.288996      1.383357           1.713179           0.711904   \n",
       "47345     -0.672105     -0.457813          -0.577140          -0.443123   \n",
       "\n",
       "       fwd_pkts_per_sec  bwd_pkts_per_sec  flow_pkts_per_sec  down_up_ratio  \\\n",
       "0             -0.277741         -0.268577          -0.273647      -1.394192   \n",
       "1              0.490111          0.504662           0.498222       0.728588   \n",
       "2             -0.277918         -0.268577          -0.273736      -1.394192   \n",
       "3             -0.276874         -0.267504          -0.272675       0.728588   \n",
       "4             -0.277823         -0.268460          -0.273629       0.728588   \n",
       "...                 ...               ...                ...            ...   \n",
       "47341         -0.276776         -0.267991          -0.272869      -0.332802   \n",
       "47342         -0.277509         -0.268577          -0.273530      -1.394192   \n",
       "47343         -0.276943         -0.267646          -0.272781       0.576960   \n",
       "47344         -0.265775         -0.256330          -0.261520       0.728588   \n",
       "47345         -0.277865         -0.268501          -0.273671       0.728588   \n",
       "\n",
       "       fwd_header_size_tot  fwd_header_size_min  ...  flow_pkts_payload.max  \\\n",
       "0                -0.643844            -1.423582  ...              -0.562720   \n",
       "1                -0.643844             0.278456  ...              -0.562720   \n",
       "2                -0.724235            -1.423582  ...              -0.562720   \n",
       "3                 2.129645            -0.147053  ...              -0.240860   \n",
       "4                -0.684039            -0.147053  ...              -0.562720   \n",
       "...                    ...                  ...  ...                    ...   \n",
       "47341            -0.483062            -0.147053  ...              -0.562720   \n",
       "47342            -0.724235            -1.423582  ...              -0.562720   \n",
       "47343             1.928668            -0.147053  ...              -0.240860   \n",
       "47344             2.330623             1.129475  ...              -0.250326   \n",
       "47345            -0.684039            -0.147053  ...              -0.562720   \n",
       "\n",
       "       flow_pkts_payload.tot  flow_pkts_payload.avg  flow_pkts_payload.std  \\\n",
       "0                  -0.744570              -0.562649              -0.557806   \n",
       "1                  -0.744570              -0.562649              -0.557806   \n",
       "2                  -0.744570              -0.562649              -0.557806   \n",
       "3                   1.678331              -0.105550              -0.268638   \n",
       "4                  -0.744570              -0.562649              -0.557806   \n",
       "...                      ...                    ...                    ...   \n",
       "47341              -0.744570              -0.562649              -0.557806   \n",
       "47342              -0.744570              -0.562649              -0.557806   \n",
       "47343               1.678331              -0.054762              -0.267306   \n",
       "47344               0.400251              -0.238680              -0.346375   \n",
       "47345              -0.744570              -0.562649              -0.557806   \n",
       "\n",
       "       fwd_subflow_pkts  bwd_subflow_pkts  fwd_subflow_bytes  \\\n",
       "0             -0.556874         -0.638986          -0.741186   \n",
       "1             -0.556874         -0.419418          -0.741186   \n",
       "2             -0.556874         -0.638986          -0.741186   \n",
       "3              2.620142          2.654541           1.265201   \n",
       "4             -0.670339         -0.529202          -0.741186   \n",
       "...                 ...               ...                ...   \n",
       "47341         -0.329944         -0.419418          -0.741186   \n",
       "47342         -0.556874         -0.638986          -0.741186   \n",
       "47343          0.275202          0.312477          -0.072391   \n",
       "47344          1.485493          1.556699           0.470671   \n",
       "47345         -0.670339         -0.529202          -0.741186   \n",
       "\n",
       "       bwd_subflow_bytes        traffic  is_attack  \n",
       "0              -0.418623      UDP_Flood          1  \n",
       "1              -0.418623  Port_Scanning          1  \n",
       "2              -0.418623      UDP_Flood          1  \n",
       "3               2.728235         Normal          0  \n",
       "4              -0.418623     MQTT_Flood          1  \n",
       "...                  ...            ...        ...  \n",
       "47341          -0.418623      TCP_Flood          1  \n",
       "47342          -0.418623      UDP_Flood          1  \n",
       "47343           0.630330         Normal          0  \n",
       "47344           0.378581         Normal          0  \n",
       "47345          -0.418623     MQTT_Flood          1  \n",
       "\n",
       "[47346 rows x 35 columns]"
      ]
     },
     "metadata": {},
     "output_type": "display_data"
    }
   ],
   "source": [
    "display(df_train)"
   ]
  },
  {
   "cell_type": "markdown",
   "metadata": {},
   "source": [
    "Load Test Dataset"
   ]
  },
  {
   "cell_type": "code",
   "execution_count": 4,
   "metadata": {},
   "outputs": [],
   "source": [
    "df_test = pd.read_csv(\"../0_Datasets/Farm-Flow/test.csv\")"
   ]
  },
  {
   "cell_type": "code",
   "execution_count": 5,
   "metadata": {},
   "outputs": [
    {
     "data": {
      "text/html": [
       "<div>\n",
       "<style scoped>\n",
       "    .dataframe tbody tr th:only-of-type {\n",
       "        vertical-align: middle;\n",
       "    }\n",
       "\n",
       "    .dataframe tbody tr th {\n",
       "        vertical-align: top;\n",
       "    }\n",
       "\n",
       "    .dataframe thead th {\n",
       "        text-align: right;\n",
       "    }\n",
       "</style>\n",
       "<table border=\"1\" class=\"dataframe\">\n",
       "  <thead>\n",
       "    <tr style=\"text-align: right;\">\n",
       "      <th></th>\n",
       "      <th>fwd_pkts_tot</th>\n",
       "      <th>bwd_pkts_tot</th>\n",
       "      <th>fwd_data_pkts_tot</th>\n",
       "      <th>bwd_data_pkts_tot</th>\n",
       "      <th>fwd_pkts_per_sec</th>\n",
       "      <th>bwd_pkts_per_sec</th>\n",
       "      <th>flow_pkts_per_sec</th>\n",
       "      <th>down_up_ratio</th>\n",
       "      <th>fwd_header_size_tot</th>\n",
       "      <th>fwd_header_size_min</th>\n",
       "      <th>...</th>\n",
       "      <th>flow_pkts_payload.max</th>\n",
       "      <th>flow_pkts_payload.tot</th>\n",
       "      <th>flow_pkts_payload.avg</th>\n",
       "      <th>flow_pkts_payload.std</th>\n",
       "      <th>fwd_subflow_pkts</th>\n",
       "      <th>bwd_subflow_pkts</th>\n",
       "      <th>fwd_subflow_bytes</th>\n",
       "      <th>bwd_subflow_bytes</th>\n",
       "      <th>traffic</th>\n",
       "      <th>is_attack</th>\n",
       "    </tr>\n",
       "  </thead>\n",
       "  <tbody>\n",
       "    <tr>\n",
       "      <th>0</th>\n",
       "      <td>-0.672105</td>\n",
       "      <td>-0.457813</td>\n",
       "      <td>-0.577140</td>\n",
       "      <td>-0.443123</td>\n",
       "      <td>-0.276940</td>\n",
       "      <td>-0.267571</td>\n",
       "      <td>-0.272742</td>\n",
       "      <td>0.728588</td>\n",
       "      <td>-0.684039</td>\n",
       "      <td>-0.147053</td>\n",
       "      <td>...</td>\n",
       "      <td>-0.562720</td>\n",
       "      <td>-0.744570</td>\n",
       "      <td>-0.562649</td>\n",
       "      <td>-0.557806</td>\n",
       "      <td>-0.556874</td>\n",
       "      <td>-0.419418</td>\n",
       "      <td>-0.741186</td>\n",
       "      <td>-0.418623</td>\n",
       "      <td>MQTT_Flood</td>\n",
       "      <td>1</td>\n",
       "    </tr>\n",
       "    <tr>\n",
       "      <th>1</th>\n",
       "      <td>-0.672105</td>\n",
       "      <td>-0.457813</td>\n",
       "      <td>-0.577140</td>\n",
       "      <td>-0.443123</td>\n",
       "      <td>-0.277181</td>\n",
       "      <td>-0.267813</td>\n",
       "      <td>-0.272983</td>\n",
       "      <td>0.728588</td>\n",
       "      <td>-0.684039</td>\n",
       "      <td>-0.147053</td>\n",
       "      <td>...</td>\n",
       "      <td>-0.562720</td>\n",
       "      <td>-0.744570</td>\n",
       "      <td>-0.562649</td>\n",
       "      <td>-0.557806</td>\n",
       "      <td>-0.556874</td>\n",
       "      <td>-0.419418</td>\n",
       "      <td>-0.741186</td>\n",
       "      <td>-0.418623</td>\n",
       "      <td>MQTT_Flood</td>\n",
       "      <td>1</td>\n",
       "    </tr>\n",
       "    <tr>\n",
       "      <th>2</th>\n",
       "      <td>-0.454205</td>\n",
       "      <td>-0.457813</td>\n",
       "      <td>-0.577140</td>\n",
       "      <td>-0.443123</td>\n",
       "      <td>-0.276909</td>\n",
       "      <td>-0.268058</td>\n",
       "      <td>-0.272969</td>\n",
       "      <td>-0.332802</td>\n",
       "      <td>-0.483062</td>\n",
       "      <td>-0.147053</td>\n",
       "      <td>...</td>\n",
       "      <td>-0.562720</td>\n",
       "      <td>-0.744570</td>\n",
       "      <td>-0.562649</td>\n",
       "      <td>-0.557806</td>\n",
       "      <td>-0.329944</td>\n",
       "      <td>-0.419418</td>\n",
       "      <td>-0.741186</td>\n",
       "      <td>-0.418623</td>\n",
       "      <td>TCP_Flood</td>\n",
       "      <td>1</td>\n",
       "    </tr>\n",
       "    <tr>\n",
       "      <th>3</th>\n",
       "      <td>2.378496</td>\n",
       "      <td>2.406229</td>\n",
       "      <td>2.285759</td>\n",
       "      <td>2.444445</td>\n",
       "      <td>-0.276907</td>\n",
       "      <td>-0.267537</td>\n",
       "      <td>-0.272708</td>\n",
       "      <td>0.728588</td>\n",
       "      <td>2.129645</td>\n",
       "      <td>-0.147053</td>\n",
       "      <td>...</td>\n",
       "      <td>-0.240860</td>\n",
       "      <td>1.678331</td>\n",
       "      <td>-0.105550</td>\n",
       "      <td>-0.268638</td>\n",
       "      <td>2.620142</td>\n",
       "      <td>2.654541</td>\n",
       "      <td>1.265201</td>\n",
       "      <td>2.728235</td>\n",
       "      <td>Normal</td>\n",
       "      <td>0</td>\n",
       "    </tr>\n",
       "    <tr>\n",
       "      <th>4</th>\n",
       "      <td>-0.454205</td>\n",
       "      <td>-0.253238</td>\n",
       "      <td>-0.004560</td>\n",
       "      <td>-0.443123</td>\n",
       "      <td>-0.276892</td>\n",
       "      <td>-0.267522</td>\n",
       "      <td>-0.272693</td>\n",
       "      <td>0.728588</td>\n",
       "      <td>-0.241889</td>\n",
       "      <td>1.129475</td>\n",
       "      <td>...</td>\n",
       "      <td>-0.477522</td>\n",
       "      <td>-0.635539</td>\n",
       "      <td>-0.408378</td>\n",
       "      <td>-0.455263</td>\n",
       "      <td>-0.329944</td>\n",
       "      <td>-0.199849</td>\n",
       "      <td>-0.596727</td>\n",
       "      <td>-0.418623</td>\n",
       "      <td>HTTP_Flood</td>\n",
       "      <td>1</td>\n",
       "    </tr>\n",
       "    <tr>\n",
       "      <th>...</th>\n",
       "      <td>...</td>\n",
       "      <td>...</td>\n",
       "      <td>...</td>\n",
       "      <td>...</td>\n",
       "      <td>...</td>\n",
       "      <td>...</td>\n",
       "      <td>...</td>\n",
       "      <td>...</td>\n",
       "      <td>...</td>\n",
       "      <td>...</td>\n",
       "      <td>...</td>\n",
       "      <td>...</td>\n",
       "      <td>...</td>\n",
       "      <td>...</td>\n",
       "      <td>...</td>\n",
       "      <td>...</td>\n",
       "      <td>...</td>\n",
       "      <td>...</td>\n",
       "      <td>...</td>\n",
       "      <td>...</td>\n",
       "      <td>...</td>\n",
       "    </tr>\n",
       "    <tr>\n",
       "      <th>15778</th>\n",
       "      <td>1.942696</td>\n",
       "      <td>2.201655</td>\n",
       "      <td>2.285759</td>\n",
       "      <td>2.444445</td>\n",
       "      <td>-0.277003</td>\n",
       "      <td>-0.267561</td>\n",
       "      <td>-0.272768</td>\n",
       "      <td>0.891878</td>\n",
       "      <td>1.727690</td>\n",
       "      <td>-0.147053</td>\n",
       "      <td>...</td>\n",
       "      <td>-0.240860</td>\n",
       "      <td>1.678331</td>\n",
       "      <td>-0.054762</td>\n",
       "      <td>-0.267306</td>\n",
       "      <td>0.691239</td>\n",
       "      <td>0.897993</td>\n",
       "      <td>0.262007</td>\n",
       "      <td>1.154806</td>\n",
       "      <td>Arp_Spoofing</td>\n",
       "      <td>1</td>\n",
       "    </tr>\n",
       "    <tr>\n",
       "      <th>15779</th>\n",
       "      <td>2.160596</td>\n",
       "      <td>2.201655</td>\n",
       "      <td>2.285759</td>\n",
       "      <td>2.444445</td>\n",
       "      <td>-0.276991</td>\n",
       "      <td>-0.267622</td>\n",
       "      <td>-0.272793</td>\n",
       "      <td>0.728588</td>\n",
       "      <td>1.928668</td>\n",
       "      <td>-0.147053</td>\n",
       "      <td>...</td>\n",
       "      <td>-0.240860</td>\n",
       "      <td>1.678331</td>\n",
       "      <td>-0.072901</td>\n",
       "      <td>-0.267431</td>\n",
       "      <td>2.393212</td>\n",
       "      <td>2.434972</td>\n",
       "      <td>1.265201</td>\n",
       "      <td>2.728235</td>\n",
       "      <td>Normal</td>\n",
       "      <td>0</td>\n",
       "    </tr>\n",
       "    <tr>\n",
       "      <th>15780</th>\n",
       "      <td>-0.236304</td>\n",
       "      <td>-0.662387</td>\n",
       "      <td>-0.577140</td>\n",
       "      <td>-0.443123</td>\n",
       "      <td>-0.277906</td>\n",
       "      <td>-0.268577</td>\n",
       "      <td>-0.273730</td>\n",
       "      <td>-1.394192</td>\n",
       "      <td>-0.643844</td>\n",
       "      <td>-1.423582</td>\n",
       "      <td>...</td>\n",
       "      <td>-0.562720</td>\n",
       "      <td>-0.744570</td>\n",
       "      <td>-0.562649</td>\n",
       "      <td>-0.557806</td>\n",
       "      <td>-0.556874</td>\n",
       "      <td>-0.638986</td>\n",
       "      <td>-0.741186</td>\n",
       "      <td>-0.418623</td>\n",
       "      <td>UDP_Flood</td>\n",
       "      <td>1</td>\n",
       "    </tr>\n",
       "    <tr>\n",
       "      <th>15781</th>\n",
       "      <td>-0.454205</td>\n",
       "      <td>-0.662387</td>\n",
       "      <td>-0.577140</td>\n",
       "      <td>-0.443123</td>\n",
       "      <td>-0.277687</td>\n",
       "      <td>-0.268577</td>\n",
       "      <td>-0.273620</td>\n",
       "      <td>-1.394192</td>\n",
       "      <td>-0.724235</td>\n",
       "      <td>-1.423582</td>\n",
       "      <td>...</td>\n",
       "      <td>-0.562720</td>\n",
       "      <td>-0.744570</td>\n",
       "      <td>-0.562649</td>\n",
       "      <td>-0.557806</td>\n",
       "      <td>-0.556874</td>\n",
       "      <td>-0.638986</td>\n",
       "      <td>-0.741186</td>\n",
       "      <td>-0.418623</td>\n",
       "      <td>UDP_Flood</td>\n",
       "      <td>1</td>\n",
       "    </tr>\n",
       "    <tr>\n",
       "      <th>15782</th>\n",
       "      <td>-0.236304</td>\n",
       "      <td>-0.662387</td>\n",
       "      <td>-0.577140</td>\n",
       "      <td>-0.443123</td>\n",
       "      <td>-0.277882</td>\n",
       "      <td>-0.268577</td>\n",
       "      <td>-0.273718</td>\n",
       "      <td>-1.394192</td>\n",
       "      <td>-0.643844</td>\n",
       "      <td>-1.423582</td>\n",
       "      <td>...</td>\n",
       "      <td>-0.562720</td>\n",
       "      <td>-0.744570</td>\n",
       "      <td>-0.562649</td>\n",
       "      <td>-0.557806</td>\n",
       "      <td>-0.556874</td>\n",
       "      <td>-0.638986</td>\n",
       "      <td>-0.741186</td>\n",
       "      <td>-0.418623</td>\n",
       "      <td>UDP_Flood</td>\n",
       "      <td>1</td>\n",
       "    </tr>\n",
       "  </tbody>\n",
       "</table>\n",
       "<p>15783 rows × 35 columns</p>\n",
       "</div>"
      ],
      "text/plain": [
       "       fwd_pkts_tot  bwd_pkts_tot  fwd_data_pkts_tot  bwd_data_pkts_tot  \\\n",
       "0         -0.672105     -0.457813          -0.577140          -0.443123   \n",
       "1         -0.672105     -0.457813          -0.577140          -0.443123   \n",
       "2         -0.454205     -0.457813          -0.577140          -0.443123   \n",
       "3          2.378496      2.406229           2.285759           2.444445   \n",
       "4         -0.454205     -0.253238          -0.004560          -0.443123   \n",
       "...             ...           ...                ...                ...   \n",
       "15778      1.942696      2.201655           2.285759           2.444445   \n",
       "15779      2.160596      2.201655           2.285759           2.444445   \n",
       "15780     -0.236304     -0.662387          -0.577140          -0.443123   \n",
       "15781     -0.454205     -0.662387          -0.577140          -0.443123   \n",
       "15782     -0.236304     -0.662387          -0.577140          -0.443123   \n",
       "\n",
       "       fwd_pkts_per_sec  bwd_pkts_per_sec  flow_pkts_per_sec  down_up_ratio  \\\n",
       "0             -0.276940         -0.267571          -0.272742       0.728588   \n",
       "1             -0.277181         -0.267813          -0.272983       0.728588   \n",
       "2             -0.276909         -0.268058          -0.272969      -0.332802   \n",
       "3             -0.276907         -0.267537          -0.272708       0.728588   \n",
       "4             -0.276892         -0.267522          -0.272693       0.728588   \n",
       "...                 ...               ...                ...            ...   \n",
       "15778         -0.277003         -0.267561          -0.272768       0.891878   \n",
       "15779         -0.276991         -0.267622          -0.272793       0.728588   \n",
       "15780         -0.277906         -0.268577          -0.273730      -1.394192   \n",
       "15781         -0.277687         -0.268577          -0.273620      -1.394192   \n",
       "15782         -0.277882         -0.268577          -0.273718      -1.394192   \n",
       "\n",
       "       fwd_header_size_tot  fwd_header_size_min  ...  flow_pkts_payload.max  \\\n",
       "0                -0.684039            -0.147053  ...              -0.562720   \n",
       "1                -0.684039            -0.147053  ...              -0.562720   \n",
       "2                -0.483062            -0.147053  ...              -0.562720   \n",
       "3                 2.129645            -0.147053  ...              -0.240860   \n",
       "4                -0.241889             1.129475  ...              -0.477522   \n",
       "...                    ...                  ...  ...                    ...   \n",
       "15778             1.727690            -0.147053  ...              -0.240860   \n",
       "15779             1.928668            -0.147053  ...              -0.240860   \n",
       "15780            -0.643844            -1.423582  ...              -0.562720   \n",
       "15781            -0.724235            -1.423582  ...              -0.562720   \n",
       "15782            -0.643844            -1.423582  ...              -0.562720   \n",
       "\n",
       "       flow_pkts_payload.tot  flow_pkts_payload.avg  flow_pkts_payload.std  \\\n",
       "0                  -0.744570              -0.562649              -0.557806   \n",
       "1                  -0.744570              -0.562649              -0.557806   \n",
       "2                  -0.744570              -0.562649              -0.557806   \n",
       "3                   1.678331              -0.105550              -0.268638   \n",
       "4                  -0.635539              -0.408378              -0.455263   \n",
       "...                      ...                    ...                    ...   \n",
       "15778               1.678331              -0.054762              -0.267306   \n",
       "15779               1.678331              -0.072901              -0.267431   \n",
       "15780              -0.744570              -0.562649              -0.557806   \n",
       "15781              -0.744570              -0.562649              -0.557806   \n",
       "15782              -0.744570              -0.562649              -0.557806   \n",
       "\n",
       "       fwd_subflow_pkts  bwd_subflow_pkts  fwd_subflow_bytes  \\\n",
       "0             -0.556874         -0.419418          -0.741186   \n",
       "1             -0.556874         -0.419418          -0.741186   \n",
       "2             -0.329944         -0.419418          -0.741186   \n",
       "3              2.620142          2.654541           1.265201   \n",
       "4             -0.329944         -0.199849          -0.596727   \n",
       "...                 ...               ...                ...   \n",
       "15778          0.691239          0.897993           0.262007   \n",
       "15779          2.393212          2.434972           1.265201   \n",
       "15780         -0.556874         -0.638986          -0.741186   \n",
       "15781         -0.556874         -0.638986          -0.741186   \n",
       "15782         -0.556874         -0.638986          -0.741186   \n",
       "\n",
       "       bwd_subflow_bytes       traffic  is_attack  \n",
       "0              -0.418623    MQTT_Flood          1  \n",
       "1              -0.418623    MQTT_Flood          1  \n",
       "2              -0.418623     TCP_Flood          1  \n",
       "3               2.728235        Normal          0  \n",
       "4              -0.418623    HTTP_Flood          1  \n",
       "...                  ...           ...        ...  \n",
       "15778           1.154806  Arp_Spoofing          1  \n",
       "15779           2.728235        Normal          0  \n",
       "15780          -0.418623     UDP_Flood          1  \n",
       "15781          -0.418623     UDP_Flood          1  \n",
       "15782          -0.418623     UDP_Flood          1  \n",
       "\n",
       "[15783 rows x 35 columns]"
      ]
     },
     "metadata": {},
     "output_type": "display_data"
    }
   ],
   "source": [
    "display(df_test)"
   ]
  },
  {
   "cell_type": "markdown",
   "metadata": {},
   "source": [
    "-----\n",
    "## Train and Test Datasets"
   ]
  },
  {
   "cell_type": "markdown",
   "metadata": {},
   "source": [
    "Drop Multiclass Column"
   ]
  },
  {
   "cell_type": "code",
   "execution_count": 6,
   "metadata": {},
   "outputs": [],
   "source": [
    "df_train = df_train.drop('traffic', axis=1)\n",
    "df_test = df_test.drop('traffic', axis=1)"
   ]
  },
  {
   "cell_type": "markdown",
   "metadata": {},
   "source": [
    "Excluding the target variable"
   ]
  },
  {
   "cell_type": "code",
   "execution_count": 7,
   "metadata": {},
   "outputs": [],
   "source": [
    "X_columns = df_train.columns.drop('is_attack')"
   ]
  },
  {
   "cell_type": "markdown",
   "metadata": {},
   "source": [
    "Create a feature matrix X by selecting only the columns specified in X_columns. Then convert the selected data into a NumPy array."
   ]
  },
  {
   "cell_type": "code",
   "execution_count": 8,
   "metadata": {},
   "outputs": [],
   "source": [
    "X = df_train[X_columns].values"
   ]
  },
  {
   "cell_type": "markdown",
   "metadata": {},
   "source": [
    "Creates a target variable y containing the target variable"
   ]
  },
  {
   "cell_type": "code",
   "execution_count": 9,
   "metadata": {},
   "outputs": [],
   "source": [
    "y = df_train[\"is_attack\"].values"
   ]
  },
  {
   "cell_type": "markdown",
   "metadata": {},
   "source": [
    "Split into training and testing sets"
   ]
  },
  {
   "cell_type": "code",
   "execution_count": 10,
   "metadata": {},
   "outputs": [],
   "source": [
    "X_train, X_test, y_train, y_test = train_test_split(X, y, test_size=0.25, random_state=42, stratify=y)"
   ]
  },
  {
   "cell_type": "markdown",
   "metadata": {},
   "source": [
    "Load Previous Trained Model"
   ]
  },
  {
   "cell_type": "code",
   "execution_count": 11,
   "metadata": {},
   "outputs": [],
   "source": [
    "# Load the saved Random Forest model\n",
    "model_folder = \"../2_Modeling_Phase/Saved-Models/\"\n",
    "model_filename = \"Farm-Flow_RF_Random_Forest_Model.joblib\"\n",
    "model_path = model_folder + model_filename\n",
    "\n",
    "model = joblib.load(model_path)"
   ]
  },
  {
   "cell_type": "markdown",
   "metadata": {},
   "source": [
    "Get Features Names and Class Names"
   ]
  },
  {
   "cell_type": "code",
   "execution_count": 12,
   "metadata": {},
   "outputs": [],
   "source": [
    "feature_names = list(X_columns)\n",
    "class_names = [\"Normal\", \"Malicious\"]\n",
    "response_dict = {0: 'Normal', 1: 'Malicious'}"
   ]
  },
  {
   "cell_type": "markdown",
   "metadata": {},
   "source": [
    "Generate Prediction"
   ]
  },
  {
   "cell_type": "code",
   "execution_count": 13,
   "metadata": {},
   "outputs": [],
   "source": [
    "pred = model.predict(X_test)"
   ]
  },
  {
   "cell_type": "markdown",
   "metadata": {},
   "source": [
    "Labeled Df's"
   ]
  },
  {
   "cell_type": "code",
   "execution_count": 14,
   "metadata": {},
   "outputs": [],
   "source": [
    "X_test_labeled = pd.DataFrame(X_test, columns=feature_names)\n",
    "X_train_labeled = pd.DataFrame(X_train, columns=feature_names)\n",
    "\n",
    "# Since both are one-dimensional NumPy arrays\n",
    "pred_series = pd.Series(pred)\n",
    "y_test_target_series = pd.Series(y_test)\n",
    "y_train_target_series = pd.Series(y_train)"
   ]
  },
  {
   "cell_type": "markdown",
   "metadata": {},
   "source": [
    "Create a subset of the Train DF for faster training"
   ]
  },
  {
   "cell_type": "code",
   "execution_count": 15,
   "metadata": {},
   "outputs": [],
   "source": [
    "subset_percentage = 0.1\n",
    "X_subset, _, y_subset, _ = train_test_split(X_train, y_train, test_size=1 - subset_percentage, stratify=y_train)"
   ]
  },
  {
   "cell_type": "code",
   "execution_count": 16,
   "metadata": {},
   "outputs": [],
   "source": [
    "subset_percentage = 0.1\n",
    "X_subset_labeled, _, y_subset_labeled, _ = train_test_split(X_train_labeled, y_train_target_series, test_size=1 - subset_percentage, stratify=y_train_target_series)"
   ]
  },
  {
   "cell_type": "markdown",
   "metadata": {},
   "source": [
    "Row to explain"
   ]
  },
  {
   "cell_type": "code",
   "execution_count": 17,
   "metadata": {},
   "outputs": [],
   "source": [
    "idx = 0"
   ]
  },
  {
   "cell_type": "markdown",
   "metadata": {},
   "source": [
    "---\n",
    "## Dalex"
   ]
  },
  {
   "cell_type": "markdown",
   "metadata": {},
   "source": [
    "### How it works\n",
    "The DALEX package xrays any model and helps to explore and explain its behaviour, helps to understand how complex models are working. The main function explain() creates a wrapper around a predictive model. Wrapped models may then be explored and compared with a collection of local and global explainers.\n",
    "\n",
    "### How does it apply\n",
    "Helps us understand and compare other machine learning models, as well as, works as another fork of SHAP and LIME.\n",
    "\n",
    "### Repository:\n",
    "- https://github.com/ModelOriented/DALEX\n",
    "- https://dalex.drwhy.ai/python-dalex-xgboost.html\n",
    "\n",
    "### Paper:\n",
    "- https://arxiv.org/abs/2012.14406"
   ]
  },
  {
   "cell_type": "code",
   "execution_count": 13,
   "metadata": {},
   "outputs": [],
   "source": [
    "#pip install dalex -U"
   ]
  },
  {
   "cell_type": "code",
   "execution_count": 14,
   "metadata": {},
   "outputs": [],
   "source": [
    "import dalex as dx"
   ]
  },
  {
   "cell_type": "code",
   "execution_count": 15,
   "metadata": {},
   "outputs": [
    {
     "ename": "NameError",
     "evalue": "name 'X_train_labeled' is not defined",
     "output_type": "error",
     "traceback": [
      "\u001b[1;31m---------------------------------------------------------------------------\u001b[0m",
      "\u001b[1;31mNameError\u001b[0m                                 Traceback (most recent call last)",
      "Cell \u001b[1;32mIn[15], line 1\u001b[0m\n\u001b[1;32m----> 1\u001b[0m exp \u001b[38;5;241m=\u001b[39m dx\u001b[38;5;241m.\u001b[39mExplainer(model, X_train_labeled, y_train_target_series)\n",
      "\u001b[1;31mNameError\u001b[0m: name 'X_train_labeled' is not defined"
     ]
    }
   ],
   "source": [
    "exp = dx.Explainer(model, X_train_labeled, y_train_target_series)"
   ]
  },
  {
   "cell_type": "code",
   "execution_count": null,
   "metadata": {},
   "outputs": [],
   "source": [
    "exp.predict(X_test_labeled)"
   ]
  },
  {
   "cell_type": "markdown",
   "metadata": {},
   "source": [
    "Understand the feature importance"
   ]
  },
  {
   "cell_type": "code",
   "execution_count": null,
   "metadata": {},
   "outputs": [],
   "source": [
    "exp.model_parts().plot()"
   ]
  },
  {
   "cell_type": "markdown",
   "metadata": {},
   "source": [
    "Understand how each feature impacted the prediction"
   ]
  },
  {
   "cell_type": "code",
   "execution_count": null,
   "metadata": {},
   "outputs": [],
   "source": [
    "exp.model_profile().plot()"
   ]
  },
  {
   "cell_type": "markdown",
   "metadata": {},
   "source": [
    "Another way of looking at LIME and understand the impact of each feature in the model prection"
   ]
  },
  {
   "cell_type": "code",
   "execution_count": null,
   "metadata": {},
   "outputs": [],
   "source": [
    "exp.predict_parts(X_test_labeled.iloc[33, :]).plot(min_max=[0,1])"
   ]
  },
  {
   "cell_type": "code",
   "execution_count": null,
   "metadata": {},
   "outputs": [],
   "source": [
    "pp = exp.predict_parts(X_test_labeled.iloc[[1]], type='shap_wrapper', shap_explainer_type=\"TreeExplainer\")\n",
    "type(pp)"
   ]
  },
  {
   "cell_type": "code",
   "execution_count": null,
   "metadata": {},
   "outputs": [],
   "source": [
    "pp.plot()"
   ]
  },
  {
   "cell_type": "code",
   "execution_count": null,
   "metadata": {},
   "outputs": [],
   "source": [
    "mp = exp.model_parts(type='shap_wrapper', shap_explainer_type=\"TreeExplainer\")\n",
    "type(mp)"
   ]
  },
  {
   "cell_type": "code",
   "execution_count": null,
   "metadata": {},
   "outputs": [],
   "source": [
    "mp.plot()"
   ]
  },
  {
   "cell_type": "markdown",
   "metadata": {},
   "source": [
    "Compare Models"
   ]
  },
  {
   "cell_type": "code",
   "execution_count": null,
   "metadata": {},
   "outputs": [],
   "source": [
    "model_filename = \"IoMT_AI_IDS_MLPClassifier.joblib\"\n",
    "model_path = model_folder + model_filename\n",
    "\n",
    "model_mlp = joblib.load(model_path)"
   ]
  },
  {
   "cell_type": "code",
   "execution_count": null,
   "metadata": {},
   "outputs": [],
   "source": [
    "exp = dx.Explainer(model, X_train, y_train)\n",
    "exp_mlp = dx.Explainer(model_mlp, X_train, y_train)"
   ]
  },
  {
   "cell_type": "code",
   "execution_count": null,
   "metadata": {},
   "outputs": [],
   "source": [
    "mp = exp.model_performance(\"classification\")\n",
    "mp_mlp = exp_mlp.model_performance(\"classification\")"
   ]
  },
  {
   "cell_type": "markdown",
   "metadata": {},
   "source": [
    "# *"
   ]
  },
  {
   "cell_type": "code",
   "execution_count": null,
   "metadata": {},
   "outputs": [],
   "source": [
    "mp.result"
   ]
  },
  {
   "cell_type": "code",
   "execution_count": null,
   "metadata": {},
   "outputs": [],
   "source": [
    "mp_mlp"
   ]
  },
  {
   "cell_type": "code",
   "execution_count": null,
   "metadata": {},
   "outputs": [],
   "source": [
    "mp.plot(mp_mlp)"
   ]
  },
  {
   "cell_type": "raw",
   "metadata": {},
   "source": [
    "md_rf = exp.model_diagnostics()\n",
    "md_mlp = exp_mlp.model_diagnostics()\n",
    "md_rf.plot(md_mlp, variable=1, yvariable=2, marker_size=5)"
   ]
  },
  {
   "cell_type": "raw",
   "metadata": {},
   "source": [
    "md_rf.plot(variable='fwd_pkts_tot', yvariable='y', marker_size=5)"
   ]
  },
  {
   "cell_type": "raw",
   "metadata": {},
   "source": [
    "lime = exp.predict_surrogate(X_test_labeled.iloc[[1]],feature_names=feature_names)\n",
    "type(lime)"
   ]
  },
  {
   "cell_type": "raw",
   "metadata": {},
   "source": [
    "Impact of each feature and the value that makes the model choose the reason for that prediction"
   ]
  },
  {
   "cell_type": "raw",
   "metadata": {},
   "source": [
    "lime.plot()"
   ]
  },
  {
   "cell_type": "raw",
   "metadata": {},
   "source": [
    "lime.result"
   ]
  },
  {
   "cell_type": "markdown",
   "metadata": {},
   "source": [
    "Fairness module in dalex\n",
    "\n",
    "- https://dalex.drwhy.ai/python-dalex-fairness.html (não aplicável)"
   ]
  },
  {
   "cell_type": "code",
   "execution_count": null,
   "metadata": {},
   "outputs": [],
   "source": []
  }
 ],
 "metadata": {
  "colab": {
   "provenance": []
  },
  "kernelspec": {
   "display_name": "Python 3 (ipykernel)",
   "language": "python",
   "name": "python3"
  },
  "language_info": {
   "codemirror_mode": {
    "name": "ipython",
    "version": 3
   },
   "file_extension": ".py",
   "mimetype": "text/x-python",
   "name": "python",
   "nbconvert_exporter": "python",
   "pygments_lexer": "ipython3",
   "version": "3.11.5"
  }
 },
 "nbformat": 4,
 "nbformat_minor": 1
}
