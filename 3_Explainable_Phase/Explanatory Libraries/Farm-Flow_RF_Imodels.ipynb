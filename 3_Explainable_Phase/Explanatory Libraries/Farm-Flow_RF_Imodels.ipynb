{
 "cells": [
  {
   "cell_type": "markdown",
   "metadata": {},
   "source": [
    "# Random Forest Model + Explainable AI Techniques (XAI)"
   ]
  },
  {
   "cell_type": "markdown",
   "metadata": {
    "id": "8_T2LCfAN_XF"
   },
   "source": [
    "## Data Preparation"
   ]
  },
  {
   "cell_type": "code",
   "execution_count": 1,
   "metadata": {
    "id": "K1li4zpPN_XH"
   },
   "outputs": [],
   "source": [
    "import pandas as pd\n",
    "import numpy as np\n",
    "import joblib\n",
    "import matplotlib.pyplot as plt\n",
    "\n",
    "from sklearn.model_selection import train_test_split"
   ]
  },
  {
   "cell_type": "markdown",
   "metadata": {},
   "source": [
    "Load Train Dataset"
   ]
  },
  {
   "cell_type": "code",
   "execution_count": 2,
   "metadata": {},
   "outputs": [],
   "source": [
    "df_train = pd.read_csv(\"../0_Datasets/Farm-Flow/train.csv\")"
   ]
  },
  {
   "cell_type": "code",
   "execution_count": 3,
   "metadata": {},
   "outputs": [
    {
     "data": {
      "text/html": [
       "<div>\n",
       "<style scoped>\n",
       "    .dataframe tbody tr th:only-of-type {\n",
       "        vertical-align: middle;\n",
       "    }\n",
       "\n",
       "    .dataframe tbody tr th {\n",
       "        vertical-align: top;\n",
       "    }\n",
       "\n",
       "    .dataframe thead th {\n",
       "        text-align: right;\n",
       "    }\n",
       "</style>\n",
       "<table border=\"1\" class=\"dataframe\">\n",
       "  <thead>\n",
       "    <tr style=\"text-align: right;\">\n",
       "      <th></th>\n",
       "      <th>fwd_pkts_tot</th>\n",
       "      <th>bwd_pkts_tot</th>\n",
       "      <th>fwd_data_pkts_tot</th>\n",
       "      <th>bwd_data_pkts_tot</th>\n",
       "      <th>fwd_pkts_per_sec</th>\n",
       "      <th>bwd_pkts_per_sec</th>\n",
       "      <th>flow_pkts_per_sec</th>\n",
       "      <th>down_up_ratio</th>\n",
       "      <th>fwd_header_size_tot</th>\n",
       "      <th>fwd_header_size_min</th>\n",
       "      <th>...</th>\n",
       "      <th>flow_pkts_payload.max</th>\n",
       "      <th>flow_pkts_payload.tot</th>\n",
       "      <th>flow_pkts_payload.avg</th>\n",
       "      <th>flow_pkts_payload.std</th>\n",
       "      <th>fwd_subflow_pkts</th>\n",
       "      <th>bwd_subflow_pkts</th>\n",
       "      <th>fwd_subflow_bytes</th>\n",
       "      <th>bwd_subflow_bytes</th>\n",
       "      <th>traffic</th>\n",
       "      <th>is_attack</th>\n",
       "    </tr>\n",
       "  </thead>\n",
       "  <tbody>\n",
       "    <tr>\n",
       "      <th>0</th>\n",
       "      <td>-0.236304</td>\n",
       "      <td>-0.662387</td>\n",
       "      <td>-0.577140</td>\n",
       "      <td>-0.443123</td>\n",
       "      <td>-0.277741</td>\n",
       "      <td>-0.268577</td>\n",
       "      <td>-0.273647</td>\n",
       "      <td>-1.394192</td>\n",
       "      <td>-0.643844</td>\n",
       "      <td>-1.423582</td>\n",
       "      <td>...</td>\n",
       "      <td>-0.562720</td>\n",
       "      <td>-0.744570</td>\n",
       "      <td>-0.562649</td>\n",
       "      <td>-0.557806</td>\n",
       "      <td>-0.556874</td>\n",
       "      <td>-0.638986</td>\n",
       "      <td>-0.741186</td>\n",
       "      <td>-0.418623</td>\n",
       "      <td>UDP_Flood</td>\n",
       "      <td>1</td>\n",
       "    </tr>\n",
       "    <tr>\n",
       "      <th>1</th>\n",
       "      <td>-0.672105</td>\n",
       "      <td>-0.457813</td>\n",
       "      <td>-0.577140</td>\n",
       "      <td>-0.443123</td>\n",
       "      <td>0.490111</td>\n",
       "      <td>0.504662</td>\n",
       "      <td>0.498222</td>\n",
       "      <td>0.728588</td>\n",
       "      <td>-0.643844</td>\n",
       "      <td>0.278456</td>\n",
       "      <td>...</td>\n",
       "      <td>-0.562720</td>\n",
       "      <td>-0.744570</td>\n",
       "      <td>-0.562649</td>\n",
       "      <td>-0.557806</td>\n",
       "      <td>-0.556874</td>\n",
       "      <td>-0.419418</td>\n",
       "      <td>-0.741186</td>\n",
       "      <td>-0.418623</td>\n",
       "      <td>Port_Scanning</td>\n",
       "      <td>1</td>\n",
       "    </tr>\n",
       "    <tr>\n",
       "      <th>2</th>\n",
       "      <td>-0.454205</td>\n",
       "      <td>-0.662387</td>\n",
       "      <td>-0.577140</td>\n",
       "      <td>-0.443123</td>\n",
       "      <td>-0.277918</td>\n",
       "      <td>-0.268577</td>\n",
       "      <td>-0.273736</td>\n",
       "      <td>-1.394192</td>\n",
       "      <td>-0.724235</td>\n",
       "      <td>-1.423582</td>\n",
       "      <td>...</td>\n",
       "      <td>-0.562720</td>\n",
       "      <td>-0.744570</td>\n",
       "      <td>-0.562649</td>\n",
       "      <td>-0.557806</td>\n",
       "      <td>-0.556874</td>\n",
       "      <td>-0.638986</td>\n",
       "      <td>-0.741186</td>\n",
       "      <td>-0.418623</td>\n",
       "      <td>UDP_Flood</td>\n",
       "      <td>1</td>\n",
       "    </tr>\n",
       "    <tr>\n",
       "      <th>3</th>\n",
       "      <td>2.378496</td>\n",
       "      <td>2.406229</td>\n",
       "      <td>2.285759</td>\n",
       "      <td>2.444445</td>\n",
       "      <td>-0.276874</td>\n",
       "      <td>-0.267504</td>\n",
       "      <td>-0.272675</td>\n",
       "      <td>0.728588</td>\n",
       "      <td>2.129645</td>\n",
       "      <td>-0.147053</td>\n",
       "      <td>...</td>\n",
       "      <td>-0.240860</td>\n",
       "      <td>1.678331</td>\n",
       "      <td>-0.105550</td>\n",
       "      <td>-0.268638</td>\n",
       "      <td>2.620142</td>\n",
       "      <td>2.654541</td>\n",
       "      <td>1.265201</td>\n",
       "      <td>2.728235</td>\n",
       "      <td>Normal</td>\n",
       "      <td>0</td>\n",
       "    </tr>\n",
       "    <tr>\n",
       "      <th>4</th>\n",
       "      <td>-0.672105</td>\n",
       "      <td>-0.457813</td>\n",
       "      <td>-0.577140</td>\n",
       "      <td>-0.443123</td>\n",
       "      <td>-0.277823</td>\n",
       "      <td>-0.268460</td>\n",
       "      <td>-0.273629</td>\n",
       "      <td>0.728588</td>\n",
       "      <td>-0.684039</td>\n",
       "      <td>-0.147053</td>\n",
       "      <td>...</td>\n",
       "      <td>-0.562720</td>\n",
       "      <td>-0.744570</td>\n",
       "      <td>-0.562649</td>\n",
       "      <td>-0.557806</td>\n",
       "      <td>-0.670339</td>\n",
       "      <td>-0.529202</td>\n",
       "      <td>-0.741186</td>\n",
       "      <td>-0.418623</td>\n",
       "      <td>MQTT_Flood</td>\n",
       "      <td>1</td>\n",
       "    </tr>\n",
       "    <tr>\n",
       "      <th>...</th>\n",
       "      <td>...</td>\n",
       "      <td>...</td>\n",
       "      <td>...</td>\n",
       "      <td>...</td>\n",
       "      <td>...</td>\n",
       "      <td>...</td>\n",
       "      <td>...</td>\n",
       "      <td>...</td>\n",
       "      <td>...</td>\n",
       "      <td>...</td>\n",
       "      <td>...</td>\n",
       "      <td>...</td>\n",
       "      <td>...</td>\n",
       "      <td>...</td>\n",
       "      <td>...</td>\n",
       "      <td>...</td>\n",
       "      <td>...</td>\n",
       "      <td>...</td>\n",
       "      <td>...</td>\n",
       "      <td>...</td>\n",
       "      <td>...</td>\n",
       "    </tr>\n",
       "    <tr>\n",
       "      <th>47341</th>\n",
       "      <td>-0.454205</td>\n",
       "      <td>-0.457813</td>\n",
       "      <td>-0.577140</td>\n",
       "      <td>-0.443123</td>\n",
       "      <td>-0.276776</td>\n",
       "      <td>-0.267991</td>\n",
       "      <td>-0.272869</td>\n",
       "      <td>-0.332802</td>\n",
       "      <td>-0.483062</td>\n",
       "      <td>-0.147053</td>\n",
       "      <td>...</td>\n",
       "      <td>-0.562720</td>\n",
       "      <td>-0.744570</td>\n",
       "      <td>-0.562649</td>\n",
       "      <td>-0.557806</td>\n",
       "      <td>-0.329944</td>\n",
       "      <td>-0.419418</td>\n",
       "      <td>-0.741186</td>\n",
       "      <td>-0.418623</td>\n",
       "      <td>TCP_Flood</td>\n",
       "      <td>1</td>\n",
       "    </tr>\n",
       "    <tr>\n",
       "      <th>47342</th>\n",
       "      <td>-0.454205</td>\n",
       "      <td>-0.662387</td>\n",
       "      <td>-0.577140</td>\n",
       "      <td>-0.443123</td>\n",
       "      <td>-0.277509</td>\n",
       "      <td>-0.268577</td>\n",
       "      <td>-0.273530</td>\n",
       "      <td>-1.394192</td>\n",
       "      <td>-0.724235</td>\n",
       "      <td>-1.423582</td>\n",
       "      <td>...</td>\n",
       "      <td>-0.562720</td>\n",
       "      <td>-0.744570</td>\n",
       "      <td>-0.562649</td>\n",
       "      <td>-0.557806</td>\n",
       "      <td>-0.556874</td>\n",
       "      <td>-0.638986</td>\n",
       "      <td>-0.741186</td>\n",
       "      <td>-0.418623</td>\n",
       "      <td>UDP_Flood</td>\n",
       "      <td>1</td>\n",
       "    </tr>\n",
       "    <tr>\n",
       "      <th>47343</th>\n",
       "      <td>2.160596</td>\n",
       "      <td>1.997080</td>\n",
       "      <td>2.285759</td>\n",
       "      <td>2.444445</td>\n",
       "      <td>-0.276943</td>\n",
       "      <td>-0.267646</td>\n",
       "      <td>-0.272781</td>\n",
       "      <td>0.576960</td>\n",
       "      <td>1.928668</td>\n",
       "      <td>-0.147053</td>\n",
       "      <td>...</td>\n",
       "      <td>-0.240860</td>\n",
       "      <td>1.678331</td>\n",
       "      <td>-0.054762</td>\n",
       "      <td>-0.267306</td>\n",
       "      <td>0.275202</td>\n",
       "      <td>0.312477</td>\n",
       "      <td>-0.072391</td>\n",
       "      <td>0.630330</td>\n",
       "      <td>Normal</td>\n",
       "      <td>0</td>\n",
       "    </tr>\n",
       "    <tr>\n",
       "      <th>47344</th>\n",
       "      <td>1.288996</td>\n",
       "      <td>1.383357</td>\n",
       "      <td>1.713179</td>\n",
       "      <td>0.711904</td>\n",
       "      <td>-0.265775</td>\n",
       "      <td>-0.256330</td>\n",
       "      <td>-0.261520</td>\n",
       "      <td>0.728588</td>\n",
       "      <td>2.330623</td>\n",
       "      <td>1.129475</td>\n",
       "      <td>...</td>\n",
       "      <td>-0.250326</td>\n",
       "      <td>0.400251</td>\n",
       "      <td>-0.238680</td>\n",
       "      <td>-0.346375</td>\n",
       "      <td>1.485493</td>\n",
       "      <td>1.556699</td>\n",
       "      <td>0.470671</td>\n",
       "      <td>0.378581</td>\n",
       "      <td>Normal</td>\n",
       "      <td>0</td>\n",
       "    </tr>\n",
       "    <tr>\n",
       "      <th>47345</th>\n",
       "      <td>-0.672105</td>\n",
       "      <td>-0.457813</td>\n",
       "      <td>-0.577140</td>\n",
       "      <td>-0.443123</td>\n",
       "      <td>-0.277865</td>\n",
       "      <td>-0.268501</td>\n",
       "      <td>-0.273671</td>\n",
       "      <td>0.728588</td>\n",
       "      <td>-0.684039</td>\n",
       "      <td>-0.147053</td>\n",
       "      <td>...</td>\n",
       "      <td>-0.562720</td>\n",
       "      <td>-0.744570</td>\n",
       "      <td>-0.562649</td>\n",
       "      <td>-0.557806</td>\n",
       "      <td>-0.670339</td>\n",
       "      <td>-0.529202</td>\n",
       "      <td>-0.741186</td>\n",
       "      <td>-0.418623</td>\n",
       "      <td>MQTT_Flood</td>\n",
       "      <td>1</td>\n",
       "    </tr>\n",
       "  </tbody>\n",
       "</table>\n",
       "<p>47346 rows × 35 columns</p>\n",
       "</div>"
      ],
      "text/plain": [
       "       fwd_pkts_tot  bwd_pkts_tot  fwd_data_pkts_tot  bwd_data_pkts_tot  \\\n",
       "0         -0.236304     -0.662387          -0.577140          -0.443123   \n",
       "1         -0.672105     -0.457813          -0.577140          -0.443123   \n",
       "2         -0.454205     -0.662387          -0.577140          -0.443123   \n",
       "3          2.378496      2.406229           2.285759           2.444445   \n",
       "4         -0.672105     -0.457813          -0.577140          -0.443123   \n",
       "...             ...           ...                ...                ...   \n",
       "47341     -0.454205     -0.457813          -0.577140          -0.443123   \n",
       "47342     -0.454205     -0.662387          -0.577140          -0.443123   \n",
       "47343      2.160596      1.997080           2.285759           2.444445   \n",
       "47344      1.288996      1.383357           1.713179           0.711904   \n",
       "47345     -0.672105     -0.457813          -0.577140          -0.443123   \n",
       "\n",
       "       fwd_pkts_per_sec  bwd_pkts_per_sec  flow_pkts_per_sec  down_up_ratio  \\\n",
       "0             -0.277741         -0.268577          -0.273647      -1.394192   \n",
       "1              0.490111          0.504662           0.498222       0.728588   \n",
       "2             -0.277918         -0.268577          -0.273736      -1.394192   \n",
       "3             -0.276874         -0.267504          -0.272675       0.728588   \n",
       "4             -0.277823         -0.268460          -0.273629       0.728588   \n",
       "...                 ...               ...                ...            ...   \n",
       "47341         -0.276776         -0.267991          -0.272869      -0.332802   \n",
       "47342         -0.277509         -0.268577          -0.273530      -1.394192   \n",
       "47343         -0.276943         -0.267646          -0.272781       0.576960   \n",
       "47344         -0.265775         -0.256330          -0.261520       0.728588   \n",
       "47345         -0.277865         -0.268501          -0.273671       0.728588   \n",
       "\n",
       "       fwd_header_size_tot  fwd_header_size_min  ...  flow_pkts_payload.max  \\\n",
       "0                -0.643844            -1.423582  ...              -0.562720   \n",
       "1                -0.643844             0.278456  ...              -0.562720   \n",
       "2                -0.724235            -1.423582  ...              -0.562720   \n",
       "3                 2.129645            -0.147053  ...              -0.240860   \n",
       "4                -0.684039            -0.147053  ...              -0.562720   \n",
       "...                    ...                  ...  ...                    ...   \n",
       "47341            -0.483062            -0.147053  ...              -0.562720   \n",
       "47342            -0.724235            -1.423582  ...              -0.562720   \n",
       "47343             1.928668            -0.147053  ...              -0.240860   \n",
       "47344             2.330623             1.129475  ...              -0.250326   \n",
       "47345            -0.684039            -0.147053  ...              -0.562720   \n",
       "\n",
       "       flow_pkts_payload.tot  flow_pkts_payload.avg  flow_pkts_payload.std  \\\n",
       "0                  -0.744570              -0.562649              -0.557806   \n",
       "1                  -0.744570              -0.562649              -0.557806   \n",
       "2                  -0.744570              -0.562649              -0.557806   \n",
       "3                   1.678331              -0.105550              -0.268638   \n",
       "4                  -0.744570              -0.562649              -0.557806   \n",
       "...                      ...                    ...                    ...   \n",
       "47341              -0.744570              -0.562649              -0.557806   \n",
       "47342              -0.744570              -0.562649              -0.557806   \n",
       "47343               1.678331              -0.054762              -0.267306   \n",
       "47344               0.400251              -0.238680              -0.346375   \n",
       "47345              -0.744570              -0.562649              -0.557806   \n",
       "\n",
       "       fwd_subflow_pkts  bwd_subflow_pkts  fwd_subflow_bytes  \\\n",
       "0             -0.556874         -0.638986          -0.741186   \n",
       "1             -0.556874         -0.419418          -0.741186   \n",
       "2             -0.556874         -0.638986          -0.741186   \n",
       "3              2.620142          2.654541           1.265201   \n",
       "4             -0.670339         -0.529202          -0.741186   \n",
       "...                 ...               ...                ...   \n",
       "47341         -0.329944         -0.419418          -0.741186   \n",
       "47342         -0.556874         -0.638986          -0.741186   \n",
       "47343          0.275202          0.312477          -0.072391   \n",
       "47344          1.485493          1.556699           0.470671   \n",
       "47345         -0.670339         -0.529202          -0.741186   \n",
       "\n",
       "       bwd_subflow_bytes        traffic  is_attack  \n",
       "0              -0.418623      UDP_Flood          1  \n",
       "1              -0.418623  Port_Scanning          1  \n",
       "2              -0.418623      UDP_Flood          1  \n",
       "3               2.728235         Normal          0  \n",
       "4              -0.418623     MQTT_Flood          1  \n",
       "...                  ...            ...        ...  \n",
       "47341          -0.418623      TCP_Flood          1  \n",
       "47342          -0.418623      UDP_Flood          1  \n",
       "47343           0.630330         Normal          0  \n",
       "47344           0.378581         Normal          0  \n",
       "47345          -0.418623     MQTT_Flood          1  \n",
       "\n",
       "[47346 rows x 35 columns]"
      ]
     },
     "metadata": {},
     "output_type": "display_data"
    }
   ],
   "source": [
    "display(df_train)"
   ]
  },
  {
   "cell_type": "markdown",
   "metadata": {},
   "source": [
    "Load Test Dataset"
   ]
  },
  {
   "cell_type": "code",
   "execution_count": 4,
   "metadata": {},
   "outputs": [],
   "source": [
    "df_test = pd.read_csv(\"../0_Datasets/Farm-Flow/test.csv\")"
   ]
  },
  {
   "cell_type": "code",
   "execution_count": 5,
   "metadata": {},
   "outputs": [
    {
     "data": {
      "text/html": [
       "<div>\n",
       "<style scoped>\n",
       "    .dataframe tbody tr th:only-of-type {\n",
       "        vertical-align: middle;\n",
       "    }\n",
       "\n",
       "    .dataframe tbody tr th {\n",
       "        vertical-align: top;\n",
       "    }\n",
       "\n",
       "    .dataframe thead th {\n",
       "        text-align: right;\n",
       "    }\n",
       "</style>\n",
       "<table border=\"1\" class=\"dataframe\">\n",
       "  <thead>\n",
       "    <tr style=\"text-align: right;\">\n",
       "      <th></th>\n",
       "      <th>fwd_pkts_tot</th>\n",
       "      <th>bwd_pkts_tot</th>\n",
       "      <th>fwd_data_pkts_tot</th>\n",
       "      <th>bwd_data_pkts_tot</th>\n",
       "      <th>fwd_pkts_per_sec</th>\n",
       "      <th>bwd_pkts_per_sec</th>\n",
       "      <th>flow_pkts_per_sec</th>\n",
       "      <th>down_up_ratio</th>\n",
       "      <th>fwd_header_size_tot</th>\n",
       "      <th>fwd_header_size_min</th>\n",
       "      <th>...</th>\n",
       "      <th>flow_pkts_payload.max</th>\n",
       "      <th>flow_pkts_payload.tot</th>\n",
       "      <th>flow_pkts_payload.avg</th>\n",
       "      <th>flow_pkts_payload.std</th>\n",
       "      <th>fwd_subflow_pkts</th>\n",
       "      <th>bwd_subflow_pkts</th>\n",
       "      <th>fwd_subflow_bytes</th>\n",
       "      <th>bwd_subflow_bytes</th>\n",
       "      <th>traffic</th>\n",
       "      <th>is_attack</th>\n",
       "    </tr>\n",
       "  </thead>\n",
       "  <tbody>\n",
       "    <tr>\n",
       "      <th>0</th>\n",
       "      <td>-0.672105</td>\n",
       "      <td>-0.457813</td>\n",
       "      <td>-0.577140</td>\n",
       "      <td>-0.443123</td>\n",
       "      <td>-0.276940</td>\n",
       "      <td>-0.267571</td>\n",
       "      <td>-0.272742</td>\n",
       "      <td>0.728588</td>\n",
       "      <td>-0.684039</td>\n",
       "      <td>-0.147053</td>\n",
       "      <td>...</td>\n",
       "      <td>-0.562720</td>\n",
       "      <td>-0.744570</td>\n",
       "      <td>-0.562649</td>\n",
       "      <td>-0.557806</td>\n",
       "      <td>-0.556874</td>\n",
       "      <td>-0.419418</td>\n",
       "      <td>-0.741186</td>\n",
       "      <td>-0.418623</td>\n",
       "      <td>MQTT_Flood</td>\n",
       "      <td>1</td>\n",
       "    </tr>\n",
       "    <tr>\n",
       "      <th>1</th>\n",
       "      <td>-0.672105</td>\n",
       "      <td>-0.457813</td>\n",
       "      <td>-0.577140</td>\n",
       "      <td>-0.443123</td>\n",
       "      <td>-0.277181</td>\n",
       "      <td>-0.267813</td>\n",
       "      <td>-0.272983</td>\n",
       "      <td>0.728588</td>\n",
       "      <td>-0.684039</td>\n",
       "      <td>-0.147053</td>\n",
       "      <td>...</td>\n",
       "      <td>-0.562720</td>\n",
       "      <td>-0.744570</td>\n",
       "      <td>-0.562649</td>\n",
       "      <td>-0.557806</td>\n",
       "      <td>-0.556874</td>\n",
       "      <td>-0.419418</td>\n",
       "      <td>-0.741186</td>\n",
       "      <td>-0.418623</td>\n",
       "      <td>MQTT_Flood</td>\n",
       "      <td>1</td>\n",
       "    </tr>\n",
       "    <tr>\n",
       "      <th>2</th>\n",
       "      <td>-0.454205</td>\n",
       "      <td>-0.457813</td>\n",
       "      <td>-0.577140</td>\n",
       "      <td>-0.443123</td>\n",
       "      <td>-0.276909</td>\n",
       "      <td>-0.268058</td>\n",
       "      <td>-0.272969</td>\n",
       "      <td>-0.332802</td>\n",
       "      <td>-0.483062</td>\n",
       "      <td>-0.147053</td>\n",
       "      <td>...</td>\n",
       "      <td>-0.562720</td>\n",
       "      <td>-0.744570</td>\n",
       "      <td>-0.562649</td>\n",
       "      <td>-0.557806</td>\n",
       "      <td>-0.329944</td>\n",
       "      <td>-0.419418</td>\n",
       "      <td>-0.741186</td>\n",
       "      <td>-0.418623</td>\n",
       "      <td>TCP_Flood</td>\n",
       "      <td>1</td>\n",
       "    </tr>\n",
       "    <tr>\n",
       "      <th>3</th>\n",
       "      <td>2.378496</td>\n",
       "      <td>2.406229</td>\n",
       "      <td>2.285759</td>\n",
       "      <td>2.444445</td>\n",
       "      <td>-0.276907</td>\n",
       "      <td>-0.267537</td>\n",
       "      <td>-0.272708</td>\n",
       "      <td>0.728588</td>\n",
       "      <td>2.129645</td>\n",
       "      <td>-0.147053</td>\n",
       "      <td>...</td>\n",
       "      <td>-0.240860</td>\n",
       "      <td>1.678331</td>\n",
       "      <td>-0.105550</td>\n",
       "      <td>-0.268638</td>\n",
       "      <td>2.620142</td>\n",
       "      <td>2.654541</td>\n",
       "      <td>1.265201</td>\n",
       "      <td>2.728235</td>\n",
       "      <td>Normal</td>\n",
       "      <td>0</td>\n",
       "    </tr>\n",
       "    <tr>\n",
       "      <th>4</th>\n",
       "      <td>-0.454205</td>\n",
       "      <td>-0.253238</td>\n",
       "      <td>-0.004560</td>\n",
       "      <td>-0.443123</td>\n",
       "      <td>-0.276892</td>\n",
       "      <td>-0.267522</td>\n",
       "      <td>-0.272693</td>\n",
       "      <td>0.728588</td>\n",
       "      <td>-0.241889</td>\n",
       "      <td>1.129475</td>\n",
       "      <td>...</td>\n",
       "      <td>-0.477522</td>\n",
       "      <td>-0.635539</td>\n",
       "      <td>-0.408378</td>\n",
       "      <td>-0.455263</td>\n",
       "      <td>-0.329944</td>\n",
       "      <td>-0.199849</td>\n",
       "      <td>-0.596727</td>\n",
       "      <td>-0.418623</td>\n",
       "      <td>HTTP_Flood</td>\n",
       "      <td>1</td>\n",
       "    </tr>\n",
       "    <tr>\n",
       "      <th>...</th>\n",
       "      <td>...</td>\n",
       "      <td>...</td>\n",
       "      <td>...</td>\n",
       "      <td>...</td>\n",
       "      <td>...</td>\n",
       "      <td>...</td>\n",
       "      <td>...</td>\n",
       "      <td>...</td>\n",
       "      <td>...</td>\n",
       "      <td>...</td>\n",
       "      <td>...</td>\n",
       "      <td>...</td>\n",
       "      <td>...</td>\n",
       "      <td>...</td>\n",
       "      <td>...</td>\n",
       "      <td>...</td>\n",
       "      <td>...</td>\n",
       "      <td>...</td>\n",
       "      <td>...</td>\n",
       "      <td>...</td>\n",
       "      <td>...</td>\n",
       "    </tr>\n",
       "    <tr>\n",
       "      <th>15778</th>\n",
       "      <td>1.942696</td>\n",
       "      <td>2.201655</td>\n",
       "      <td>2.285759</td>\n",
       "      <td>2.444445</td>\n",
       "      <td>-0.277003</td>\n",
       "      <td>-0.267561</td>\n",
       "      <td>-0.272768</td>\n",
       "      <td>0.891878</td>\n",
       "      <td>1.727690</td>\n",
       "      <td>-0.147053</td>\n",
       "      <td>...</td>\n",
       "      <td>-0.240860</td>\n",
       "      <td>1.678331</td>\n",
       "      <td>-0.054762</td>\n",
       "      <td>-0.267306</td>\n",
       "      <td>0.691239</td>\n",
       "      <td>0.897993</td>\n",
       "      <td>0.262007</td>\n",
       "      <td>1.154806</td>\n",
       "      <td>Arp_Spoofing</td>\n",
       "      <td>1</td>\n",
       "    </tr>\n",
       "    <tr>\n",
       "      <th>15779</th>\n",
       "      <td>2.160596</td>\n",
       "      <td>2.201655</td>\n",
       "      <td>2.285759</td>\n",
       "      <td>2.444445</td>\n",
       "      <td>-0.276991</td>\n",
       "      <td>-0.267622</td>\n",
       "      <td>-0.272793</td>\n",
       "      <td>0.728588</td>\n",
       "      <td>1.928668</td>\n",
       "      <td>-0.147053</td>\n",
       "      <td>...</td>\n",
       "      <td>-0.240860</td>\n",
       "      <td>1.678331</td>\n",
       "      <td>-0.072901</td>\n",
       "      <td>-0.267431</td>\n",
       "      <td>2.393212</td>\n",
       "      <td>2.434972</td>\n",
       "      <td>1.265201</td>\n",
       "      <td>2.728235</td>\n",
       "      <td>Normal</td>\n",
       "      <td>0</td>\n",
       "    </tr>\n",
       "    <tr>\n",
       "      <th>15780</th>\n",
       "      <td>-0.236304</td>\n",
       "      <td>-0.662387</td>\n",
       "      <td>-0.577140</td>\n",
       "      <td>-0.443123</td>\n",
       "      <td>-0.277906</td>\n",
       "      <td>-0.268577</td>\n",
       "      <td>-0.273730</td>\n",
       "      <td>-1.394192</td>\n",
       "      <td>-0.643844</td>\n",
       "      <td>-1.423582</td>\n",
       "      <td>...</td>\n",
       "      <td>-0.562720</td>\n",
       "      <td>-0.744570</td>\n",
       "      <td>-0.562649</td>\n",
       "      <td>-0.557806</td>\n",
       "      <td>-0.556874</td>\n",
       "      <td>-0.638986</td>\n",
       "      <td>-0.741186</td>\n",
       "      <td>-0.418623</td>\n",
       "      <td>UDP_Flood</td>\n",
       "      <td>1</td>\n",
       "    </tr>\n",
       "    <tr>\n",
       "      <th>15781</th>\n",
       "      <td>-0.454205</td>\n",
       "      <td>-0.662387</td>\n",
       "      <td>-0.577140</td>\n",
       "      <td>-0.443123</td>\n",
       "      <td>-0.277687</td>\n",
       "      <td>-0.268577</td>\n",
       "      <td>-0.273620</td>\n",
       "      <td>-1.394192</td>\n",
       "      <td>-0.724235</td>\n",
       "      <td>-1.423582</td>\n",
       "      <td>...</td>\n",
       "      <td>-0.562720</td>\n",
       "      <td>-0.744570</td>\n",
       "      <td>-0.562649</td>\n",
       "      <td>-0.557806</td>\n",
       "      <td>-0.556874</td>\n",
       "      <td>-0.638986</td>\n",
       "      <td>-0.741186</td>\n",
       "      <td>-0.418623</td>\n",
       "      <td>UDP_Flood</td>\n",
       "      <td>1</td>\n",
       "    </tr>\n",
       "    <tr>\n",
       "      <th>15782</th>\n",
       "      <td>-0.236304</td>\n",
       "      <td>-0.662387</td>\n",
       "      <td>-0.577140</td>\n",
       "      <td>-0.443123</td>\n",
       "      <td>-0.277882</td>\n",
       "      <td>-0.268577</td>\n",
       "      <td>-0.273718</td>\n",
       "      <td>-1.394192</td>\n",
       "      <td>-0.643844</td>\n",
       "      <td>-1.423582</td>\n",
       "      <td>...</td>\n",
       "      <td>-0.562720</td>\n",
       "      <td>-0.744570</td>\n",
       "      <td>-0.562649</td>\n",
       "      <td>-0.557806</td>\n",
       "      <td>-0.556874</td>\n",
       "      <td>-0.638986</td>\n",
       "      <td>-0.741186</td>\n",
       "      <td>-0.418623</td>\n",
       "      <td>UDP_Flood</td>\n",
       "      <td>1</td>\n",
       "    </tr>\n",
       "  </tbody>\n",
       "</table>\n",
       "<p>15783 rows × 35 columns</p>\n",
       "</div>"
      ],
      "text/plain": [
       "       fwd_pkts_tot  bwd_pkts_tot  fwd_data_pkts_tot  bwd_data_pkts_tot  \\\n",
       "0         -0.672105     -0.457813          -0.577140          -0.443123   \n",
       "1         -0.672105     -0.457813          -0.577140          -0.443123   \n",
       "2         -0.454205     -0.457813          -0.577140          -0.443123   \n",
       "3          2.378496      2.406229           2.285759           2.444445   \n",
       "4         -0.454205     -0.253238          -0.004560          -0.443123   \n",
       "...             ...           ...                ...                ...   \n",
       "15778      1.942696      2.201655           2.285759           2.444445   \n",
       "15779      2.160596      2.201655           2.285759           2.444445   \n",
       "15780     -0.236304     -0.662387          -0.577140          -0.443123   \n",
       "15781     -0.454205     -0.662387          -0.577140          -0.443123   \n",
       "15782     -0.236304     -0.662387          -0.577140          -0.443123   \n",
       "\n",
       "       fwd_pkts_per_sec  bwd_pkts_per_sec  flow_pkts_per_sec  down_up_ratio  \\\n",
       "0             -0.276940         -0.267571          -0.272742       0.728588   \n",
       "1             -0.277181         -0.267813          -0.272983       0.728588   \n",
       "2             -0.276909         -0.268058          -0.272969      -0.332802   \n",
       "3             -0.276907         -0.267537          -0.272708       0.728588   \n",
       "4             -0.276892         -0.267522          -0.272693       0.728588   \n",
       "...                 ...               ...                ...            ...   \n",
       "15778         -0.277003         -0.267561          -0.272768       0.891878   \n",
       "15779         -0.276991         -0.267622          -0.272793       0.728588   \n",
       "15780         -0.277906         -0.268577          -0.273730      -1.394192   \n",
       "15781         -0.277687         -0.268577          -0.273620      -1.394192   \n",
       "15782         -0.277882         -0.268577          -0.273718      -1.394192   \n",
       "\n",
       "       fwd_header_size_tot  fwd_header_size_min  ...  flow_pkts_payload.max  \\\n",
       "0                -0.684039            -0.147053  ...              -0.562720   \n",
       "1                -0.684039            -0.147053  ...              -0.562720   \n",
       "2                -0.483062            -0.147053  ...              -0.562720   \n",
       "3                 2.129645            -0.147053  ...              -0.240860   \n",
       "4                -0.241889             1.129475  ...              -0.477522   \n",
       "...                    ...                  ...  ...                    ...   \n",
       "15778             1.727690            -0.147053  ...              -0.240860   \n",
       "15779             1.928668            -0.147053  ...              -0.240860   \n",
       "15780            -0.643844            -1.423582  ...              -0.562720   \n",
       "15781            -0.724235            -1.423582  ...              -0.562720   \n",
       "15782            -0.643844            -1.423582  ...              -0.562720   \n",
       "\n",
       "       flow_pkts_payload.tot  flow_pkts_payload.avg  flow_pkts_payload.std  \\\n",
       "0                  -0.744570              -0.562649              -0.557806   \n",
       "1                  -0.744570              -0.562649              -0.557806   \n",
       "2                  -0.744570              -0.562649              -0.557806   \n",
       "3                   1.678331              -0.105550              -0.268638   \n",
       "4                  -0.635539              -0.408378              -0.455263   \n",
       "...                      ...                    ...                    ...   \n",
       "15778               1.678331              -0.054762              -0.267306   \n",
       "15779               1.678331              -0.072901              -0.267431   \n",
       "15780              -0.744570              -0.562649              -0.557806   \n",
       "15781              -0.744570              -0.562649              -0.557806   \n",
       "15782              -0.744570              -0.562649              -0.557806   \n",
       "\n",
       "       fwd_subflow_pkts  bwd_subflow_pkts  fwd_subflow_bytes  \\\n",
       "0             -0.556874         -0.419418          -0.741186   \n",
       "1             -0.556874         -0.419418          -0.741186   \n",
       "2             -0.329944         -0.419418          -0.741186   \n",
       "3              2.620142          2.654541           1.265201   \n",
       "4             -0.329944         -0.199849          -0.596727   \n",
       "...                 ...               ...                ...   \n",
       "15778          0.691239          0.897993           0.262007   \n",
       "15779          2.393212          2.434972           1.265201   \n",
       "15780         -0.556874         -0.638986          -0.741186   \n",
       "15781         -0.556874         -0.638986          -0.741186   \n",
       "15782         -0.556874         -0.638986          -0.741186   \n",
       "\n",
       "       bwd_subflow_bytes       traffic  is_attack  \n",
       "0              -0.418623    MQTT_Flood          1  \n",
       "1              -0.418623    MQTT_Flood          1  \n",
       "2              -0.418623     TCP_Flood          1  \n",
       "3               2.728235        Normal          0  \n",
       "4              -0.418623    HTTP_Flood          1  \n",
       "...                  ...           ...        ...  \n",
       "15778           1.154806  Arp_Spoofing          1  \n",
       "15779           2.728235        Normal          0  \n",
       "15780          -0.418623     UDP_Flood          1  \n",
       "15781          -0.418623     UDP_Flood          1  \n",
       "15782          -0.418623     UDP_Flood          1  \n",
       "\n",
       "[15783 rows x 35 columns]"
      ]
     },
     "metadata": {},
     "output_type": "display_data"
    }
   ],
   "source": [
    "display(df_test)"
   ]
  },
  {
   "cell_type": "markdown",
   "metadata": {},
   "source": [
    "-----\n",
    "## Train and Test Datasets"
   ]
  },
  {
   "cell_type": "markdown",
   "metadata": {},
   "source": [
    "Drop Multiclass Column"
   ]
  },
  {
   "cell_type": "code",
   "execution_count": 6,
   "metadata": {},
   "outputs": [],
   "source": [
    "df_train = df_train.drop('traffic', axis=1)\n",
    "df_test = df_test.drop('traffic', axis=1)"
   ]
  },
  {
   "cell_type": "markdown",
   "metadata": {},
   "source": [
    "Excluding the target variable"
   ]
  },
  {
   "cell_type": "code",
   "execution_count": 7,
   "metadata": {},
   "outputs": [],
   "source": [
    "X_columns = df_train.columns.drop('is_attack')"
   ]
  },
  {
   "cell_type": "markdown",
   "metadata": {},
   "source": [
    "Create a feature matrix X by selecting only the columns specified in X_columns. Then convert the selected data into a NumPy array."
   ]
  },
  {
   "cell_type": "code",
   "execution_count": 8,
   "metadata": {},
   "outputs": [],
   "source": [
    "X = df_train[X_columns].values"
   ]
  },
  {
   "cell_type": "markdown",
   "metadata": {},
   "source": [
    "Creates a target variable y containing the target variable"
   ]
  },
  {
   "cell_type": "code",
   "execution_count": 9,
   "metadata": {},
   "outputs": [],
   "source": [
    "y = df_train[\"is_attack\"].values"
   ]
  },
  {
   "cell_type": "markdown",
   "metadata": {},
   "source": [
    "Split into training and testing sets"
   ]
  },
  {
   "cell_type": "code",
   "execution_count": 10,
   "metadata": {},
   "outputs": [],
   "source": [
    "X_train, X_test, y_train, y_test = train_test_split(X, y, test_size=0.25, random_state=42, stratify=y)"
   ]
  },
  {
   "cell_type": "markdown",
   "metadata": {},
   "source": [
    "Load Previous Trained Model"
   ]
  },
  {
   "cell_type": "code",
   "execution_count": 11,
   "metadata": {},
   "outputs": [],
   "source": [
    "# Load the saved Random Forest model\n",
    "model_folder = \"../2_Modeling_Phase/Saved-Models/\"\n",
    "model_filename = \"Farm-Flow_RF_Random_Forest_Model.joblib\"\n",
    "model_path = model_folder + model_filename\n",
    "\n",
    "model = joblib.load(model_path)"
   ]
  },
  {
   "cell_type": "markdown",
   "metadata": {},
   "source": [
    "Get Features Names and Class Names"
   ]
  },
  {
   "cell_type": "code",
   "execution_count": 12,
   "metadata": {},
   "outputs": [],
   "source": [
    "feature_names = list(X_columns)\n",
    "class_names = [\"Normal\", \"Malicious\"]\n",
    "response_dict = {0: 'Normal', 1: 'Malicious'}"
   ]
  },
  {
   "cell_type": "markdown",
   "metadata": {},
   "source": [
    "Generate Prediction"
   ]
  },
  {
   "cell_type": "code",
   "execution_count": 13,
   "metadata": {},
   "outputs": [],
   "source": [
    "pred = model.predict(X_test)"
   ]
  },
  {
   "cell_type": "markdown",
   "metadata": {},
   "source": [
    "Labeled Df's"
   ]
  },
  {
   "cell_type": "code",
   "execution_count": 14,
   "metadata": {},
   "outputs": [],
   "source": [
    "X_test_labeled = pd.DataFrame(X_test, columns=feature_names)\n",
    "X_train_labeled = pd.DataFrame(X_train, columns=feature_names)\n",
    "\n",
    "# Since both are one-dimensional NumPy arrays\n",
    "pred_series = pd.Series(pred)\n",
    "y_test_target_series = pd.Series(y_test)\n",
    "y_train_target_series = pd.Series(y_train)"
   ]
  },
  {
   "cell_type": "markdown",
   "metadata": {},
   "source": [
    "Create a subset of the Train DF for faster training"
   ]
  },
  {
   "cell_type": "code",
   "execution_count": 15,
   "metadata": {},
   "outputs": [],
   "source": [
    "subset_percentage = 0.1\n",
    "X_subset, _, y_subset, _ = train_test_split(X_train, y_train, test_size=1 - subset_percentage, stratify=y_train)"
   ]
  },
  {
   "cell_type": "code",
   "execution_count": 16,
   "metadata": {},
   "outputs": [],
   "source": [
    "subset_percentage = 0.1\n",
    "X_subset_labeled, _, y_subset_labeled, _ = train_test_split(X_train_labeled, y_train_target_series, test_size=1 - subset_percentage, stratify=y_train_target_series)"
   ]
  },
  {
   "cell_type": "markdown",
   "metadata": {},
   "source": [
    "Row to explain"
   ]
  },
  {
   "cell_type": "code",
   "execution_count": 17,
   "metadata": {},
   "outputs": [],
   "source": [
    "idx = 0"
   ]
  },
  {
   "cell_type": "markdown",
   "metadata": {},
   "source": [
    "---\n",
    "## Imodels"
   ]
  },
  {
   "cell_type": "markdown",
   "metadata": {},
   "source": [
    "### How it works\n",
    "Modern machine-learning models are increasingly complex, often making them difficult to interpret. This package provides a simple interface for fitting and using state-of-the-art interpretable models, all compatible with scikit-learn. These models can often replace black-box models (e.g. random forests) with simpler models (e.g. rule lists) while improving interpretability and computational efficiency, all without sacrificing predictive accuracy! Simply import a classifier or regressor and use the fit and predict methods, same as standard scikit-learn models.\n",
    "\n",
    "### How it applys\n",
    "Library to compare models\n",
    "\n",
    "### Repository:\n",
    "- https://github.com/csinva/imodels\n",
    "\n",
    "### Paper:\n",
    "- https://joss.theoj.org/papers/10.21105/joss.03192"
   ]
  },
  {
   "cell_type": "code",
   "execution_count": 13,
   "metadata": {},
   "outputs": [],
   "source": [
    "#pip install imodels"
   ]
  },
  {
   "cell_type": "code",
   "execution_count": 14,
   "metadata": {},
   "outputs": [],
   "source": [
    "from imodels import HSTreeClassifierCV"
   ]
  },
  {
   "cell_type": "code",
   "execution_count": 15,
   "metadata": {},
   "outputs": [],
   "source": [
    "immodel = HSTreeClassifierCV(max_leaf_nodes=4)  # initialize a tree model and specify only 4 leaf nodes\n",
    "immodel.fit(X_train, y_train, feature_names=feature_names)   # fit model\n",
    "preds = immodel.predict(X_test) # discrete predictions: shape is (n_test, 1)\n",
    "preds_proba = model.predict_proba(X_test) # predicted probabilities: shape is (n_test, n_classes)"
   ]
  },
  {
   "cell_type": "code",
   "execution_count": 16,
   "metadata": {},
   "outputs": [
    {
     "name": "stdout",
     "output_type": "stream",
     "text": [
      "> ------------------------------\n",
      "> Decision Tree with Hierarchical Shrinkage\n",
      "> \tPrediction is made by looking at the value in the appropriate leaf of the tree\n",
      "> ------------------------------\n",
      "|--- feature_29 <= -0.07\n",
      "|   |--- feature_4 <= -0.12\n",
      "|   |   |--- weights: [0.00, 1.00] class: 1.0\n",
      "|   |--- feature_4 >  -0.12\n",
      "|   |   |--- feature_7 <= -0.16\n",
      "|   |   |   |--- weights: [0.70, 0.30] class: 0.0\n",
      "|   |   |--- feature_7 >  -0.16\n",
      "|   |   |   |--- weights: [0.02, 0.98] class: 1.0\n",
      "|--- feature_29 >  -0.07\n",
      "|   |--- weights: [0.84, 0.16] class: 0.0\n",
      "\n"
     ]
    }
   ],
   "source": [
    "print(immodel) # print the model"
   ]
  },
  {
   "cell_type": "markdown",
   "metadata": {},
   "source": [
    "Error Detection"
   ]
  },
  {
   "cell_type": "code",
   "execution_count": 17,
   "metadata": {},
   "outputs": [],
   "source": [
    "import imodels\n",
    "from sklearn.ensemble import RandomForestClassifier"
   ]
  },
  {
   "cell_type": "code",
   "execution_count": 18,
   "metadata": {},
   "outputs": [
    {
     "name": "stdout",
     "output_type": "stream",
     "text": [
      "RandomForestClassifier(max_depth=3)\n"
     ]
    }
   ],
   "source": [
    "model, feature_names = imodels.explain_classification_errors(X_test, model.predict(X_test), y_test,\n",
    "                                                             feature_names=feature_names,\n",
    "                                                             classifier=RandomForestClassifier(max_depth=3))"
   ]
  },
  {
   "cell_type": "code",
   "execution_count": 19,
   "metadata": {},
   "outputs": [
    {
     "data": {
      "image/png": "[encoded data removed]",
      "text/plain": [
       "<Figure size 1920x1440 with 1 Axes>"
      ]
     },
     "metadata": {},
     "output_type": "display_data"
    }
   ],
   "source": [
    "from sklearn.tree import plot_tree\n",
    "\n",
    "tree_to_plot = model.estimators_[0]\n",
    "\n",
    "# Convert the Pandas Index to a list\n",
    "feature_names_list = feature_names.tolist()\n",
    "\n",
    "plt.figure(dpi=300)\n",
    "plot_tree(tree_to_plot, feature_names=feature_names_list, filled=True, rounded=True, class_names=class_names)\n",
    "plt.show()"
   ]
  },
  {
   "cell_type": "markdown",
   "metadata": {},
   "source": [
    "Figs Classifier"
   ]
  },
  {
   "cell_type": "code",
   "execution_count": 20,
   "metadata": {},
   "outputs": [],
   "source": [
    "from imodels import FIGSClassifier"
   ]
  },
  {
   "cell_type": "code",
   "execution_count": 21,
   "metadata": {},
   "outputs": [],
   "source": [
    "model_figs = FIGSClassifier(max_rules=7, max_trees=3)"
   ]
  },
  {
   "cell_type": "code",
   "execution_count": 22,
   "metadata": {},
   "outputs": [
    {
     "name": "stdout",
     "output_type": "stream",
     "text": [
      "34\n",
      "33\n"
     ]
    }
   ],
   "source": [
    "print(len(feature_names))\n",
    "print(X_train.shape[1])"
   ]
  },
  {
   "cell_type": "code",
   "execution_count": 23,
   "metadata": {},
   "outputs": [
    {
     "data": {
      "text/html": [
       "<style>#sk-container-id-1 {color: black;}#sk-container-id-1 pre{padding: 0;}#sk-container-id-1 div.sk-toggleable {background-color: white;}#sk-container-id-1 label.sk-toggleable__label {cursor: pointer;display: block;width: 100%;margin-bottom: 0;padding: 0.3em;box-sizing: border-box;text-align: center;}#sk-container-id-1 label.sk-toggleable__label-arrow:before {content: \"▸\";float: left;margin-right: 0.25em;color: #696969;}#sk-container-id-1 label.sk-toggleable__label-arrow:hover:before {color: black;}#sk-container-id-1 div.sk-estimator:hover label.sk-toggleable__label-arrow:before {color: black;}#sk-container-id-1 div.sk-toggleable__content {max-height: 0;max-width: 0;overflow: hidden;text-align: left;background-color: #f0f8ff;}#sk-container-id-1 div.sk-toggleable__content pre {margin: 0.2em;color: black;border-radius: 0.25em;background-color: #f0f8ff;}#sk-container-id-1 input.sk-toggleable__control:checked~div.sk-toggleable__content {max-height: 200px;max-width: 100%;overflow: auto;}#sk-container-id-1 input.sk-toggleable__control:checked~label.sk-toggleable__label-arrow:before {content: \"▾\";}#sk-container-id-1 div.sk-estimator input.sk-toggleable__control:checked~label.sk-toggleable__label {background-color: #d4ebff;}#sk-container-id-1 div.sk-label input.sk-toggleable__control:checked~label.sk-toggleable__label {background-color: #d4ebff;}#sk-container-id-1 input.sk-hidden--visually {border: 0;clip: rect(1px 1px 1px 1px);clip: rect(1px, 1px, 1px, 1px);height: 1px;margin: -1px;overflow: hidden;padding: 0;position: absolute;width: 1px;}#sk-container-id-1 div.sk-estimator {font-family: monospace;background-color: #f0f8ff;border: 1px dotted black;border-radius: 0.25em;box-sizing: border-box;margin-bottom: 0.5em;}#sk-container-id-1 div.sk-estimator:hover {background-color: #d4ebff;}#sk-container-id-1 div.sk-parallel-item::after {content: \"\";width: 100%;border-bottom: 1px solid gray;flex-grow: 1;}#sk-container-id-1 div.sk-label:hover label.sk-toggleable__label {background-color: #d4ebff;}#sk-container-id-1 div.sk-serial::before {content: \"\";position: absolute;border-left: 1px solid gray;box-sizing: border-box;top: 0;bottom: 0;left: 50%;z-index: 0;}#sk-container-id-1 div.sk-serial {display: flex;flex-direction: column;align-items: center;background-color: white;padding-right: 0.2em;padding-left: 0.2em;position: relative;}#sk-container-id-1 div.sk-item {position: relative;z-index: 1;}#sk-container-id-1 div.sk-parallel {display: flex;align-items: stretch;justify-content: center;background-color: white;position: relative;}#sk-container-id-1 div.sk-item::before, #sk-container-id-1 div.sk-parallel-item::before {content: \"\";position: absolute;border-left: 1px solid gray;box-sizing: border-box;top: 0;bottom: 0;left: 50%;z-index: -1;}#sk-container-id-1 div.sk-parallel-item {display: flex;flex-direction: column;z-index: 1;position: relative;background-color: white;}#sk-container-id-1 div.sk-parallel-item:first-child::after {align-self: flex-end;width: 50%;}#sk-container-id-1 div.sk-parallel-item:last-child::after {align-self: flex-start;width: 50%;}#sk-container-id-1 div.sk-parallel-item:only-child::after {width: 0;}#sk-container-id-1 div.sk-dashed-wrapped {border: 1px dashed gray;margin: 0 0.4em 0.5em 0.4em;box-sizing: border-box;padding-bottom: 0.4em;background-color: white;}#sk-container-id-1 div.sk-label label {font-family: monospace;font-weight: bold;display: inline-block;line-height: 1.2em;}#sk-container-id-1 div.sk-label-container {text-align: center;}#sk-container-id-1 div.sk-container {/* jupyter's `normalize.less` sets `[hidden] { display: none; }` but bootstrap.min.css set `[hidden] { display: none !important; }` so we also need the `!important` here to be able to override the default hidden behavior on the sphinx rendered scikit-learn.org. See: https://github.com/scikit-learn/scikit-learn/issues/21755 */display: inline-block !important;position: relative;}#sk-container-id-1 div.sk-text-repr-fallback {display: none;}</style><div id=\"sk-container-id-1\" class=\"sk-top-container\"><div class=\"sk-text-repr-fallback\"><pre>&gt; ------------------------------\n",
       "&gt; FIGS-Fast Interpretable Greedy-Tree Sums:\n",
       "&gt; \tPredictions are made by summing the &quot;Val&quot; reached by traversing each tree.\n",
       "&gt; \tFor classifiers, a sigmoid function is then applied to the sum.\n",
       "&gt; ------------------------------\n",
       "fwd_subflow_pkts &lt;= -0.075 (Tree #0 root)\n",
       "\tfwd_pkts_per_sec &lt;= -0.121 (split)\n",
       "\t\tVal: 0.998 (leaf)\n",
       "\t\tdown_up_ratio &lt;= -0.156 (split)\n",
       "\t\t\tVal: 0.298 (leaf)\n",
       "\t\t\tfwd_data_pkts_tot &lt;= -0.148 (split)\n",
       "\t\t\t\tVal: 0.991 (leaf)\n",
       "\t\t\t\tVal: 0.091 (leaf)\n",
       "\tfwd_data_pkts_tot &lt;= -0.148 (split)\n",
       "\t\tVal: 1.000 (leaf)\n",
       "\t\tfwd_pkts_payload.tot &lt;= 0.368 (split)\n",
       "\t\t\tVal: 0.929 (leaf)\n",
       "\t\t\tfwd_pkts_payload.avg &lt;= 0.755 (split)\n",
       "\t\t\t\tVal: 0.144 (leaf)\n",
       "\t\t\t\tVal: 1.000 (leaf)\n",
       "</pre><b>In a Jupyter environment, please rerun this cell to show the HTML representation or trust the notebook. <br />On GitHub, the HTML representation is unable to render, please try loading this page with nbviewer.org.</b></div><div class=\"sk-container\" hidden><div class=\"sk-item\"><div class=\"sk-estimator sk-toggleable\"><input class=\"sk-toggleable__control sk-hidden--visually\" id=\"sk-estimator-id-1\" type=\"checkbox\" checked><label for=\"sk-estimator-id-1\" class=\"sk-toggleable__label sk-toggleable__label-arrow\">FIGSClassifier</label><div class=\"sk-toggleable__content\"><pre>&gt; ------------------------------\n",
       "&gt; FIGS-Fast Interpretable Greedy-Tree Sums:\n",
       "&gt; \tPredictions are made by summing the &quot;Val&quot; reached by traversing each tree.\n",
       "&gt; \tFor classifiers, a sigmoid function is then applied to the sum.\n",
       "&gt; ------------------------------\n",
       "fwd_subflow_pkts &lt;= -0.075 (Tree #0 root)\n",
       "\tfwd_pkts_per_sec &lt;= -0.121 (split)\n",
       "\t\tVal: 0.998 (leaf)\n",
       "\t\tdown_up_ratio &lt;= -0.156 (split)\n",
       "\t\t\tVal: 0.298 (leaf)\n",
       "\t\t\tfwd_data_pkts_tot &lt;= -0.148 (split)\n",
       "\t\t\t\tVal: 0.991 (leaf)\n",
       "\t\t\t\tVal: 0.091 (leaf)\n",
       "\tfwd_data_pkts_tot &lt;= -0.148 (split)\n",
       "\t\tVal: 1.000 (leaf)\n",
       "\t\tfwd_pkts_payload.tot &lt;= 0.368 (split)\n",
       "\t\t\tVal: 0.929 (leaf)\n",
       "\t\t\tfwd_pkts_payload.avg &lt;= 0.755 (split)\n",
       "\t\t\t\tVal: 0.144 (leaf)\n",
       "\t\t\t\tVal: 1.000 (leaf)\n",
       "</pre></div></div></div></div></div>"
      ],
      "text/plain": [
       "FIGSClassifier(max_rules=7, max_trees=3)"
      ]
     },
     "execution_count": 23,
     "metadata": {},
     "output_type": "execute_result"
    }
   ],
   "source": [
    "model_figs.fit(X_train, y_train, feature_names=feature_names.drop('target'))"
   ]
  },
  {
   "cell_type": "code",
   "execution_count": 24,
   "metadata": {},
   "outputs": [
    {
     "name": "stdout",
     "output_type": "stream",
     "text": [
      "> ------------------------------\n",
      "> FIGS-Fast Interpretable Greedy-Tree Sums:\n",
      "> \tPredictions are made by summing the \"Val\" reached by traversing each tree.\n",
      "> \tFor classifiers, a sigmoid function is then applied to the sum.\n",
      "> ------------------------------\n",
      "fwd_subflow_pkts <= -0.075 (Tree #0 root)\n",
      "\tfwd_pkts_per_sec <= -0.121 (split)\n",
      "\t\tVal: 0.998 (leaf)\n",
      "\t\tdown_up_ratio <= -0.156 (split)\n",
      "\t\t\tVal: 0.298 (leaf)\n",
      "\t\t\tfwd_data_pkts_tot <= -0.148 (split)\n",
      "\t\t\t\tVal: 0.991 (leaf)\n",
      "\t\t\t\tVal: 0.091 (leaf)\n",
      "\tfwd_data_pkts_tot <= -0.148 (split)\n",
      "\t\tVal: 1.000 (leaf)\n",
      "\t\tfwd_pkts_payload.tot <= 0.368 (split)\n",
      "\t\t\tVal: 0.929 (leaf)\n",
      "\t\t\tfwd_pkts_payload.avg <= 0.755 (split)\n",
      "\t\t\t\tVal: 0.144 (leaf)\n",
      "\t\t\t\tVal: 1.000 (leaf)\n",
      "\n"
     ]
    }
   ],
   "source": [
    "print(model_figs)"
   ]
  },
  {
   "cell_type": "code",
   "execution_count": 25,
   "metadata": {},
   "outputs": [
    {
     "name": "stdout",
     "output_type": "stream",
     "text": [
      "------------\n",
      "fwd_subflow_pkts <= -0.075 24704/35509 (69.57%)\n",
      "\tfwd_pkts_per_sec <= -0.121 22779/23517 (96.86%)\n",
      "\t\tΔRisk = 1.00 20468/20515 (99.77%)\n",
      "\t\tdown_up_ratio <= -0.156 2311/3002 (76.98%)\n",
      "\t\t\tΔRisk = 0.30 277/929 (29.82%)\n",
      "\t\t\tfwd_data_pkts_tot <= -0.148 2034/2073 (98.12%)\n",
      "\t\t\t\tΔRisk = 0.99 2032/2051 (99.07%)\n",
      "\t\t\t\tΔRisk = 0.09 2/22 (9.09%)\n",
      "\tfwd_data_pkts_tot <= -0.148 1925/11992 (16.05%)\n",
      "\t\tΔRisk = 1.00 150/150 (100.0%)\n",
      "\t\tfwd_pkts_payload.tot <= 0.368 1775/11842 (14.99%)\n",
      "\t\t\tΔRisk = 0.93 65/70 (92.86%)\n",
      "\t\t\tfwd_pkts_payload.avg <= 0.755 1710/11772 (14.53%)\n",
      "\t\t\t\tΔRisk = 0.14 1693/11755 (14.4%)\n",
      "\t\t\t\tΔRisk = 1.00 17/17 (100.0%)\n",
      "\n"
     ]
    }
   ],
   "source": [
    "print(model_figs.print_tree(X_train, y_train))"
   ]
  },
  {
   "cell_type": "markdown",
   "metadata": {},
   "source": [
    "Gini Importance"
   ]
  },
  {
   "cell_type": "code",
   "execution_count": 26,
   "metadata": {},
   "outputs": [
    {
     "data": {
      "text/html": [
       "<div>\n",
       "<style scoped>\n",
       "    .dataframe tbody tr th:only-of-type {\n",
       "        vertical-align: middle;\n",
       "    }\n",
       "\n",
       "    .dataframe tbody tr th {\n",
       "        vertical-align: top;\n",
       "    }\n",
       "\n",
       "    .dataframe thead th {\n",
       "        text-align: right;\n",
       "    }\n",
       "</style>\n",
       "<table border=\"1\" class=\"dataframe\">\n",
       "  <thead>\n",
       "    <tr style=\"text-align: right;\">\n",
       "      <th></th>\n",
       "      <th>feat_names</th>\n",
       "      <th>feature</th>\n",
       "      <th>importance_gini</th>\n",
       "      <th>importance_gini_pct</th>\n",
       "    </tr>\n",
       "  </thead>\n",
       "  <tbody>\n",
       "    <tr>\n",
       "      <th>0</th>\n",
       "      <td>fwd_subflow_pkts</td>\n",
       "      <td>29</td>\n",
       "      <td>0.893977</td>\n",
       "      <td>1.000000</td>\n",
       "    </tr>\n",
       "    <tr>\n",
       "      <th>1</th>\n",
       "      <td>down_up_ratio</td>\n",
       "      <td>7</td>\n",
       "      <td>0.051586</td>\n",
       "      <td>0.969697</td>\n",
       "    </tr>\n",
       "    <tr>\n",
       "      <th>2</th>\n",
       "      <td>fwd_pkts_per_sec</td>\n",
       "      <td>4</td>\n",
       "      <td>0.023443</td>\n",
       "      <td>0.939394</td>\n",
       "    </tr>\n",
       "    <tr>\n",
       "      <th>3</th>\n",
       "      <td>fwd_data_pkts_tot</td>\n",
       "      <td>2</td>\n",
       "      <td>0.021490</td>\n",
       "      <td>0.909091</td>\n",
       "    </tr>\n",
       "    <tr>\n",
       "      <th>4</th>\n",
       "      <td>fwd_pkts_payload.tot</td>\n",
       "      <td>16</td>\n",
       "      <td>0.007360</td>\n",
       "      <td>0.878788</td>\n",
       "    </tr>\n",
       "    <tr>\n",
       "      <th>5</th>\n",
       "      <td>fwd_pkts_payload.avg</td>\n",
       "      <td>17</td>\n",
       "      <td>0.002144</td>\n",
       "      <td>0.848485</td>\n",
       "    </tr>\n",
       "    <tr>\n",
       "      <th>6</th>\n",
       "      <td>fwd_pkts_tot</td>\n",
       "      <td>0</td>\n",
       "      <td>0.000000</td>\n",
       "      <td>0.424242</td>\n",
       "    </tr>\n",
       "    <tr>\n",
       "      <th>7</th>\n",
       "      <td>bwd_pkts_tot</td>\n",
       "      <td>1</td>\n",
       "      <td>0.000000</td>\n",
       "      <td>0.424242</td>\n",
       "    </tr>\n",
       "    <tr>\n",
       "      <th>8</th>\n",
       "      <td>bwd_data_pkts_tot</td>\n",
       "      <td>3</td>\n",
       "      <td>0.000000</td>\n",
       "      <td>0.424242</td>\n",
       "    </tr>\n",
       "    <tr>\n",
       "      <th>9</th>\n",
       "      <td>bwd_pkts_per_sec</td>\n",
       "      <td>5</td>\n",
       "      <td>0.000000</td>\n",
       "      <td>0.424242</td>\n",
       "    </tr>\n",
       "    <tr>\n",
       "      <th>10</th>\n",
       "      <td>flow_pkts_per_sec</td>\n",
       "      <td>6</td>\n",
       "      <td>0.000000</td>\n",
       "      <td>0.424242</td>\n",
       "    </tr>\n",
       "    <tr>\n",
       "      <th>11</th>\n",
       "      <td>fwd_header_size_tot</td>\n",
       "      <td>8</td>\n",
       "      <td>0.000000</td>\n",
       "      <td>0.424242</td>\n",
       "    </tr>\n",
       "    <tr>\n",
       "      <th>12</th>\n",
       "      <td>fwd_header_size_min</td>\n",
       "      <td>9</td>\n",
       "      <td>0.000000</td>\n",
       "      <td>0.424242</td>\n",
       "    </tr>\n",
       "    <tr>\n",
       "      <th>13</th>\n",
       "      <td>fwd_header_size_max</td>\n",
       "      <td>10</td>\n",
       "      <td>0.000000</td>\n",
       "      <td>0.424242</td>\n",
       "    </tr>\n",
       "    <tr>\n",
       "      <th>14</th>\n",
       "      <td>bwd_header_size_tot</td>\n",
       "      <td>11</td>\n",
       "      <td>0.000000</td>\n",
       "      <td>0.424242</td>\n",
       "    </tr>\n",
       "    <tr>\n",
       "      <th>15</th>\n",
       "      <td>bwd_header_size_min</td>\n",
       "      <td>12</td>\n",
       "      <td>0.000000</td>\n",
       "      <td>0.424242</td>\n",
       "    </tr>\n",
       "    <tr>\n",
       "      <th>16</th>\n",
       "      <td>bwd_header_size_max</td>\n",
       "      <td>13</td>\n",
       "      <td>0.000000</td>\n",
       "      <td>0.424242</td>\n",
       "    </tr>\n",
       "    <tr>\n",
       "      <th>17</th>\n",
       "      <td>fwd_pkts_payload.min</td>\n",
       "      <td>14</td>\n",
       "      <td>0.000000</td>\n",
       "      <td>0.424242</td>\n",
       "    </tr>\n",
       "    <tr>\n",
       "      <th>18</th>\n",
       "      <td>fwd_pkts_payload.max</td>\n",
       "      <td>15</td>\n",
       "      <td>0.000000</td>\n",
       "      <td>0.424242</td>\n",
       "    </tr>\n",
       "    <tr>\n",
       "      <th>19</th>\n",
       "      <td>fwd_pkts_payload.std</td>\n",
       "      <td>18</td>\n",
       "      <td>0.000000</td>\n",
       "      <td>0.424242</td>\n",
       "    </tr>\n",
       "    <tr>\n",
       "      <th>20</th>\n",
       "      <td>bwd_pkts_payload.min</td>\n",
       "      <td>19</td>\n",
       "      <td>0.000000</td>\n",
       "      <td>0.424242</td>\n",
       "    </tr>\n",
       "    <tr>\n",
       "      <th>21</th>\n",
       "      <td>bwd_pkts_payload.max</td>\n",
       "      <td>20</td>\n",
       "      <td>0.000000</td>\n",
       "      <td>0.424242</td>\n",
       "    </tr>\n",
       "    <tr>\n",
       "      <th>22</th>\n",
       "      <td>bwd_pkts_payload.tot</td>\n",
       "      <td>21</td>\n",
       "      <td>0.000000</td>\n",
       "      <td>0.424242</td>\n",
       "    </tr>\n",
       "    <tr>\n",
       "      <th>23</th>\n",
       "      <td>bwd_pkts_payload.avg</td>\n",
       "      <td>22</td>\n",
       "      <td>0.000000</td>\n",
       "      <td>0.424242</td>\n",
       "    </tr>\n",
       "    <tr>\n",
       "      <th>24</th>\n",
       "      <td>bwd_pkts_payload.std</td>\n",
       "      <td>23</td>\n",
       "      <td>0.000000</td>\n",
       "      <td>0.424242</td>\n",
       "    </tr>\n",
       "    <tr>\n",
       "      <th>25</th>\n",
       "      <td>flow_pkts_payload.min</td>\n",
       "      <td>24</td>\n",
       "      <td>0.000000</td>\n",
       "      <td>0.424242</td>\n",
       "    </tr>\n",
       "    <tr>\n",
       "      <th>26</th>\n",
       "      <td>flow_pkts_payload.max</td>\n",
       "      <td>25</td>\n",
       "      <td>0.000000</td>\n",
       "      <td>0.424242</td>\n",
       "    </tr>\n",
       "    <tr>\n",
       "      <th>27</th>\n",
       "      <td>flow_pkts_payload.tot</td>\n",
       "      <td>26</td>\n",
       "      <td>0.000000</td>\n",
       "      <td>0.424242</td>\n",
       "    </tr>\n",
       "    <tr>\n",
       "      <th>28</th>\n",
       "      <td>flow_pkts_payload.avg</td>\n",
       "      <td>27</td>\n",
       "      <td>0.000000</td>\n",
       "      <td>0.424242</td>\n",
       "    </tr>\n",
       "    <tr>\n",
       "      <th>29</th>\n",
       "      <td>flow_pkts_payload.std</td>\n",
       "      <td>28</td>\n",
       "      <td>0.000000</td>\n",
       "      <td>0.424242</td>\n",
       "    </tr>\n",
       "    <tr>\n",
       "      <th>30</th>\n",
       "      <td>bwd_subflow_pkts</td>\n",
       "      <td>30</td>\n",
       "      <td>0.000000</td>\n",
       "      <td>0.424242</td>\n",
       "    </tr>\n",
       "    <tr>\n",
       "      <th>31</th>\n",
       "      <td>fwd_subflow_bytes</td>\n",
       "      <td>31</td>\n",
       "      <td>0.000000</td>\n",
       "      <td>0.424242</td>\n",
       "    </tr>\n",
       "    <tr>\n",
       "      <th>32</th>\n",
       "      <td>bwd_subflow_bytes</td>\n",
       "      <td>32</td>\n",
       "      <td>0.000000</td>\n",
       "      <td>0.424242</td>\n",
       "    </tr>\n",
       "    <tr>\n",
       "      <th>33</th>\n",
       "      <td>target</td>\n",
       "      <td>33</td>\n",
       "      <td>NaN</td>\n",
       "      <td>NaN</td>\n",
       "    </tr>\n",
       "  </tbody>\n",
       "</table>\n",
       "</div>"
      ],
      "text/plain": [
       "               feat_names  feature  importance_gini  importance_gini_pct\n",
       "0        fwd_subflow_pkts       29         0.893977             1.000000\n",
       "1           down_up_ratio        7         0.051586             0.969697\n",
       "2        fwd_pkts_per_sec        4         0.023443             0.939394\n",
       "3       fwd_data_pkts_tot        2         0.021490             0.909091\n",
       "4    fwd_pkts_payload.tot       16         0.007360             0.878788\n",
       "5    fwd_pkts_payload.avg       17         0.002144             0.848485\n",
       "6            fwd_pkts_tot        0         0.000000             0.424242\n",
       "7            bwd_pkts_tot        1         0.000000             0.424242\n",
       "8       bwd_data_pkts_tot        3         0.000000             0.424242\n",
       "9        bwd_pkts_per_sec        5         0.000000             0.424242\n",
       "10      flow_pkts_per_sec        6         0.000000             0.424242\n",
       "11    fwd_header_size_tot        8         0.000000             0.424242\n",
       "12    fwd_header_size_min        9         0.000000             0.424242\n",
       "13    fwd_header_size_max       10         0.000000             0.424242\n",
       "14    bwd_header_size_tot       11         0.000000             0.424242\n",
       "15    bwd_header_size_min       12         0.000000             0.424242\n",
       "16    bwd_header_size_max       13         0.000000             0.424242\n",
       "17   fwd_pkts_payload.min       14         0.000000             0.424242\n",
       "18   fwd_pkts_payload.max       15         0.000000             0.424242\n",
       "19   fwd_pkts_payload.std       18         0.000000             0.424242\n",
       "20   bwd_pkts_payload.min       19         0.000000             0.424242\n",
       "21   bwd_pkts_payload.max       20         0.000000             0.424242\n",
       "22   bwd_pkts_payload.tot       21         0.000000             0.424242\n",
       "23   bwd_pkts_payload.avg       22         0.000000             0.424242\n",
       "24   bwd_pkts_payload.std       23         0.000000             0.424242\n",
       "25  flow_pkts_payload.min       24         0.000000             0.424242\n",
       "26  flow_pkts_payload.max       25         0.000000             0.424242\n",
       "27  flow_pkts_payload.tot       26         0.000000             0.424242\n",
       "28  flow_pkts_payload.avg       27         0.000000             0.424242\n",
       "29  flow_pkts_payload.std       28         0.000000             0.424242\n",
       "30       bwd_subflow_pkts       30         0.000000             0.424242\n",
       "31      fwd_subflow_bytes       31         0.000000             0.424242\n",
       "32      bwd_subflow_bytes       32         0.000000             0.424242\n",
       "33                 target       33              NaN                  NaN"
      ]
     },
     "metadata": {},
     "output_type": "display_data"
    }
   ],
   "source": [
    "dfp_importance = pd.DataFrame({'feat_names': feature_names})\n",
    "dfp_importance['feature'] = dfp_importance.index\n",
    "dfp_importance_gini = pd.DataFrame({'importance_gini': model_figs.feature_importances_})\n",
    "dfp_importance_gini['feature'] = dfp_importance_gini.index\n",
    "dfp_importance_gini['importance_gini_pct'] = dfp_importance_gini['importance_gini'].rank(pct=True)\n",
    "dfp_importance = pd.merge(dfp_importance, dfp_importance_gini, on='feature', how='left')\n",
    "dfp_importance = dfp_importance.sort_values(by=['importance_gini', 'feature'], ascending=[False, True]).reset_index(drop=True)\n",
    "display(dfp_importance)"
   ]
  },
  {
   "cell_type": "markdown",
   "metadata": {},
   "source": [
    "dtreeviz Integration"
   ]
  },
  {
   "cell_type": "code",
   "execution_count": 27,
   "metadata": {},
   "outputs": [],
   "source": [
    "#!pip install dtreeviz"
   ]
  },
  {
   "cell_type": "code",
   "execution_count": 28,
   "metadata": {},
   "outputs": [],
   "source": [
    "import dtreeviz\n",
    "from imodels.tree.viz_utils import extract_sklearn_tree_from_figs"
   ]
  },
  {
   "cell_type": "markdown",
   "metadata": {},
   "source": [
    "Incompatibility in the dtype (data type) of the node array when trying to set the state of a tree object. "
   ]
  },
  {
   "cell_type": "code",
   "execution_count": 29,
   "metadata": {},
   "outputs": [],
   "source": [
    "#dt = extract_sklearn_tree_from_figs(model_figs, tree_num=0, n_classes=2)\n",
    "#viz_model = dtreeviz.model(dt_train, X_train=X_train, y_train=y_train, feature_names=feature_names, target_name='y', class_names=[0, 1])"
   ]
  },
  {
   "cell_type": "markdown",
   "metadata": {},
   "source": [
    "Compare Models"
   ]
  },
  {
   "cell_type": "code",
   "execution_count": 30,
   "metadata": {},
   "outputs": [
    {
     "ename": "NameError",
     "evalue": "name 'X_subset' is not defined",
     "output_type": "error",
     "traceback": [
      "\u001b[1;31m---------------------------------------------------------------------------\u001b[0m",
      "\u001b[1;31mNameError\u001b[0m                                 Traceback (most recent call last)",
      "Cell \u001b[1;32mIn[30], line 2\u001b[0m\n\u001b[0;32m      1\u001b[0m m \u001b[38;5;241m=\u001b[39m imodels\u001b[38;5;241m.\u001b[39mAutoInterpretableClassifier()\n\u001b[1;32m----> 2\u001b[0m m\u001b[38;5;241m.\u001b[39mfit(X_subset, y_subset, cv\u001b[38;5;241m=\u001b[39m\u001b[38;5;241m3\u001b[39m)\n\u001b[0;32m      4\u001b[0m \u001b[38;5;28mprint\u001b[39m(\u001b[38;5;124m\"\u001b[39m\u001b[38;5;124mbest params\u001b[39m\u001b[38;5;124m\"\u001b[39m, m\u001b[38;5;241m.\u001b[39mest_\u001b[38;5;241m.\u001b[39mbest_params_)\n\u001b[0;32m      5\u001b[0m \u001b[38;5;28mprint\u001b[39m(\u001b[38;5;124m\"\u001b[39m\u001b[38;5;124mbest score\u001b[39m\u001b[38;5;124m\"\u001b[39m, m\u001b[38;5;241m.\u001b[39mest_\u001b[38;5;241m.\u001b[39mbest_score_)\n",
      "\u001b[1;31mNameError\u001b[0m: name 'X_subset' is not defined"
     ]
    }
   ],
   "source": [
    "m = imodels.AutoInterpretableClassifier()\n",
    "m.fit(X_subset, y_subset, cv=3)\n",
    "\n",
    "print(\"best params\", m.est_.best_params_)\n",
    "print(\"best score\", m.est_.best_score_)\n",
    "print(\"best estimator\", m.est_.best_estimator_)\n",
    "print(\"best estimator params\", m.est_.best_estimator_.get_params())"
   ]
  },
  {
   "cell_type": "code",
   "execution_count": null,
   "metadata": {},
   "outputs": [],
   "source": [
    "df = pd.DataFrame(m.est_.cv_results_).sort_values(\"rank_test_score\")\n",
    "first_cols = [\"rank_test_score\", \"mean_test_score\", \"std_test_score\"]\n",
    "df = df[first_cols + [c for c in df.columns if c not in first_cols]].round(3)\n",
    "# remove std_ cols\n",
    "df = df[[c for c in df.columns if \"std_\" not in c]]\n",
    "df"
   ]
  },
  {
   "cell_type": "code",
   "execution_count": null,
   "metadata": {},
   "outputs": [],
   "source": [
    "est = m.est_.best_estimator_.named_steps['est']\n",
    "print(est)"
   ]
  },
  {
   "cell_type": "code",
   "execution_count": null,
   "metadata": {},
   "outputs": [],
   "source": [
    "#pd.DataFrame({'feature_names': feature_names, 'coef': est.coef_.flatten()}).round(3)"
   ]
  },
  {
   "cell_type": "markdown",
   "metadata": {},
   "source": [
    "Fitting different models to classification/regression datasets"
   ]
  },
  {
   "cell_type": "code",
   "execution_count": null,
   "metadata": {},
   "outputs": [],
   "source": [
    "from imodels import SLIMClassifier, OneRClassifier, BoostedRulesClassifier, FIGSClassifier, HSTreeClassifierCV\n",
    "from imodels import SLIMRegressor, BayesianRuleListClassifier, RuleFitRegressor, GreedyRuleListClassifier\n",
    "from imodels.discretization import ExtraBasicDiscretizer\n",
    "from sklearn import metrics"
   ]
  },
  {
   "cell_type": "markdown",
   "metadata": {},
   "source": [
    "Rulefit"
   ]
  },
  {
   "cell_type": "code",
   "execution_count": null,
   "metadata": {},
   "outputs": [],
   "source": [
    "# fit a rulefit model\n",
    "rulefit = RuleFitRegressor(max_rules=10)\n",
    "rulefit.fit(X_subset, y_subset, feature_names=feature_names.drop('target'))\n",
    "\n",
    "# get test performance\n",
    "preds = rulefit.predict(X_subset)\n",
    "print(f'Test R2: {metrics.r2_score(y_subset, preds):0.2f}')\n",
    "\n",
    "rulefit"
   ]
  },
  {
   "cell_type": "code",
   "execution_count": null,
   "metadata": {},
   "outputs": [],
   "source": [
    "# inspect and print the rules\n",
    "print('Rulefit has an alternative visualization:')\n",
    "rules = rulefit._get_rules()\n",
    "rules = rules[rules.coef != 0].sort_values(\"support\", ascending=False)\n",
    "    # 'rule' is how the feature is constructed\n",
    "    # 'coef' is its weight in the final linear model\n",
    "    # 'support' is the fraction of points it applies to\n",
    "display(rules[['rule', 'coef', 'support']].style.background_gradient(cmap='viridis'))"
   ]
  },
  {
   "cell_type": "markdown",
   "metadata": {},
   "source": [
    "Boosted stumps"
   ]
  },
  {
   "cell_type": "code",
   "execution_count": null,
   "metadata": {},
   "outputs": [],
   "source": [
    "#!pip install demo_helper"
   ]
  },
  {
   "cell_type": "markdown",
   "metadata": {},
   "source": [
    "ERROR: Could not find a version that satisfies the requirement demo_helper (from versions: none)\n",
    "ERROR: No matching distribution found for demo_helper"
   ]
  },
  {
   "cell_type": "raw",
   "metadata": {},
   "source": [
    "import demo_helper"
   ]
  },
  {
   "cell_type": "raw",
   "metadata": {},
   "source": [
    "# fit boosted stumps\n",
    "brc = BoostedRulesClassifier(n_estimators=10)\n",
    "brc.fit(X_train, y_train, feature_names=feature_names.drop('target'))\n",
    "\n",
    "# look at performance\n",
    "probs = brc.predict_proba(X_test)\n",
    "demo_helper.viz_classification_preds(probs, y_test)\n",
    "\n",
    "brc"
   ]
  },
  {
   "cell_type": "markdown",
   "metadata": {},
   "source": [
    "Rule trees"
   ]
  },
  {
   "cell_type": "raw",
   "metadata": {},
   "source": [
    "# specify a decision tree with a maximum depth\n",
    "figs = FIGSClassifier(max_rules=7)\n",
    "figs.fit(X_subset, y_subset, feature_names=feature_names.drop('target'))\n",
    "\n",
    "# calculate mse on the training data\n",
    "probs = figs.predict_proba(X_test)\n",
    "# print(f'test mse: {np.mean(np.square(preds-y)):0.2f}')\n",
    "demo_helper.viz_classification_preds(probs, y_test)\n",
    "\n",
    "figs"
   ]
  },
  {
   "cell_type": "raw",
   "metadata": {},
   "source": [
    "print('Alternative visualization:')\n",
    "figs.plot()"
   ]
  },
  {
   "cell_type": "raw",
   "metadata": {},
   "source": [
    "# specify a decision tree with a maximum depth\n",
    "dt = HSTreeClassifierCV(max_leaf_nodes=7)\n",
    "dt.fit(X_subset, y_subset, feature_names=feature_names.drop('target'))\n",
    "\n",
    "# calculate mse on the training data\n",
    "probs = dt.predict_proba(X_test)\n",
    "# print(f'test mse: {np.mean(np.square(preds-y)):0.2f}')\n",
    "demo_helper.viz_classification_preds(probs, y_test)\n",
    "\n",
    "dt"
   ]
  },
  {
   "cell_type": "raw",
   "metadata": {},
   "source": [
    "print('Alternative visualization:')\n",
    "plot_tree(dt.estimator_, feature_names=feat_names)\n",
    "# plt.savefig('tree.pdf')\n",
    "plt.show()"
   ]
  },
  {
   "cell_type": "raw",
   "metadata": {},
   "source": [
    "Rule lists"
   ]
  },
  {
   "cell_type": "raw",
   "metadata": {},
   "source": [
    "# fit a greedy rule list\n",
    "m = GreedyRuleListClassifier()\n",
    "m.fit(X_train, y=y_train, feature_names=feat_names)  # stores into m.rules_\n",
    "probs = m.predict_proba(X_test)\n",
    "\n",
    "# look at prediction breakdown\n",
    "demo_helper.viz_classification_preds(probs, y_test)\n",
    "\n",
    "m"
   ]
  },
  {
   "cell_type": "markdown",
   "metadata": {},
   "source": [
    "Post Hoc Analysis"
   ]
  },
  {
   "cell_type": "raw",
   "metadata": {},
   "source": [
    "import eli5\n",
    "from eli5.sklearn import PermutationImportance\n",
    "\n",
    "perm = PermutationImportance(m).fit(X_train, y_train)\n",
    "eli5.show_weights(perm)  # stored in perm.feature_importances_"
   ]
  },
  {
   "cell_type": "markdown",
   "metadata": {},
   "source": [
    "ImportError: cannot import name 'if_delegate_has_method' from 'sklearn.utils.metaestimators' (C:\\Users\\ivoafonsobispo\\anaconda3\\Lib\\site-packages\\sklearn\\utils\\metaestimators.py)"
   ]
  },
  {
   "cell_type": "markdown",
   "metadata": {},
   "source": [
    "Local curves"
   ]
  },
  {
   "cell_type": "code",
   "execution_count": null,
   "metadata": {},
   "outputs": [],
   "source": [
    "#!pip install pdpbox"
   ]
  },
  {
   "cell_type": "markdown",
   "metadata": {},
   "source": [
    "AttributeError: module 'pdpbox.pdp' has no attribute 'pdp_isolate'"
   ]
  },
  {
   "cell_type": "raw",
   "metadata": {},
   "source": [
    "from pdpbox import pdp\n",
    "\n",
    "feature_names = [\"x\" + str(i) for i in range(X.shape[1])]\n",
    "\n",
    "feature_num = 0\n",
    "curve0 = pdp.pdp_isolate(model=m, dataset=pd.DataFrame(X, columns=feature_names), model_features=feature_names,\n",
    "                         feature=feature_names[feature_num], num_grid_points=50)\n",
    "pdp.pdp_plot(curve0, feature_name=feature_names[feature_num], plot_lines=True)\n",
    "plt.show()\n",
    "\n",
    "feature_num = 1\n",
    "curve1 = pdp.pdp_isolate(model=m, dataset=pd.DataFrame(X, columns=feature_names), model_features=feature_names,\n",
    "                         feature=feature_names[feature_num], num_grid_points=50)\n",
    "pdp.pdp_plot(curve1, feature_name=feature_names[feature_num], plot_lines=True)\n",
    "plt.show()"
   ]
  },
  {
   "cell_type": "code",
   "execution_count": null,
   "metadata": {},
   "outputs": [],
   "source": []
  }
 ],
 "metadata": {
  "colab": {
   "provenance": []
  },
  "kernelspec": {
   "display_name": "Python 3 (ipykernel)",
   "language": "python",
   "name": "python3"
  },
  "language_info": {
   "codemirror_mode": {
    "name": "ipython",
    "version": 3
   },
   "file_extension": ".py",
   "mimetype": "text/x-python",
   "name": "python",
   "nbconvert_exporter": "python",
   "pygments_lexer": "ipython3",
   "version": "3.11.5"
  }
 },
 "nbformat": 4,
 "nbformat_minor": 1
}
